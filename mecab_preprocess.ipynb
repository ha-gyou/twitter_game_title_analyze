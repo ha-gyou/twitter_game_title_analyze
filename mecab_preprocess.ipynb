{
 "cells": [
  {
   "cell_type": "markdown",
   "metadata": {},
   "source": [
    "### 下記を参考に実施\n",
    "\n",
    "https://qiita.com/taroc/items/b9afd914432da08dafc8"
   ]
  },
  {
   "cell_type": "code",
   "execution_count": 3,
   "metadata": {},
   "outputs": [
    {
     "name": "stdout",
     "output_type": "stream",
     "text": [
      "\u001b[33mWarning:\u001b[0m mecab 0.996 is already installed and up-to-date\r\n",
      "To reinstall 0.996, run `brew reinstall mecab`\r\n"
     ]
    }
   ],
   "source": [
    "!brew install mecab"
   ]
  },
  {
   "cell_type": "code",
   "execution_count": 4,
   "metadata": {},
   "outputs": [
    {
     "name": "stdout",
     "output_type": "stream",
     "text": [
      "\u001b[33mWarning:\u001b[0m mecab-ipadic 2.7.0-20070801 is already installed and up-to-date\r\n",
      "To reinstall 2.7.0-20070801, run `brew reinstall mecab-ipadic`\r\n"
     ]
    }
   ],
   "source": [
    "!brew install mecab-ipadic"
   ]
  },
  {
   "cell_type": "code",
   "execution_count": 6,
   "metadata": {},
   "outputs": [
    {
     "name": "stdout",
     "output_type": "stream",
     "text": [
      "\u001b[34m==>\u001b[0m \u001b[1mDownloading https://homebrew.bintray.com/bottles/git-2.17.0.sierra.bottle.ta\u001b[0m\n",
      "######################################################################## 100.0%\n",
      "\u001b[34m==>\u001b[0m \u001b[1mPouring git-2.17.0.sierra.bottle.tar.gz\u001b[0m\n",
      "\u001b[34m==>\u001b[0m \u001b[1mCaveats\u001b[0m\n",
      "Bash completion has been installed to:\n",
      "  /usr/local/etc/bash_completion.d\n",
      "\n",
      "zsh completions and functions have been installed to:\n",
      "  /usr/local/share/zsh/site-functions\n",
      "\n",
      "Emacs Lisp files have been installed to:\n",
      "  /usr/local/share/emacs/site-lisp/git\n",
      "\u001b[34m==>\u001b[0m \u001b[1mSummary\u001b[0m\n",
      "🍺  /usr/local/Cellar/git/2.17.0: 1,497 files, 35.6MB\n",
      "\u001b[34m==>\u001b[0m \u001b[1mDownloading https://homebrew.bintray.com/bottles/curl-7.59.0.sierra.bottle.t\u001b[0m\n",
      "######################################################################## 100.0%\n",
      "\u001b[34m==>\u001b[0m \u001b[1mPouring curl-7.59.0.sierra.bottle.tar.gz\u001b[0m\n",
      "\u001b[34m==>\u001b[0m \u001b[1mCaveats\u001b[0m\n",
      "This formula is keg-only, which means it was not symlinked into /usr/local,\n",
      "because macOS already provides this software and installing another version in\n",
      "parallel can cause all kinds of trouble.\n",
      "\n",
      "If you need to have this software first in your PATH run:\n",
      "  echo 'export PATH=\"/usr/local/opt/curl/bin:$PATH\"' >> ~/.zshrc\n",
      "\n",
      "For compilers to find this software you may need to set:\n",
      "    LDFLAGS:  -L/usr/local/opt/curl/lib\n",
      "    CPPFLAGS: -I/usr/local/opt/curl/include\n",
      "\n",
      "\u001b[34m==>\u001b[0m \u001b[1mSummary\u001b[0m\n",
      "🍺  /usr/local/Cellar/curl/7.59.0: 421 files, 3MB\n",
      "\u001b[34m==>\u001b[0m \u001b[1mDownloading https://homebrew.bintray.com/bottles/xz-5.2.4.sierra.bottle.tar.\u001b[0m\n",
      "######################################################################## 100.0%\n",
      "\u001b[34m==>\u001b[0m \u001b[1mPouring xz-5.2.4.sierra.bottle.tar.gz\u001b[0m\n",
      "🍺  /usr/local/Cellar/xz/5.2.4: 92 files, 1MB\n"
     ]
    }
   ],
   "source": [
    "!brew install git curl xz"
   ]
  },
  {
   "cell_type": "code",
   "execution_count": 7,
   "metadata": {},
   "outputs": [
    {
     "name": "stdout",
     "output_type": "stream",
     "text": [
      "mecab_preprocess.ipynb    \u001b[34mresources\u001b[m\u001b[m/\r\n",
      "\u001b[34moutput\u001b[m\u001b[m/                   twitter_crawl_test.ipynb\r\n"
     ]
    }
   ],
   "source": [
    "ls"
   ]
  },
  {
   "cell_type": "markdown",
   "metadata": {},
   "source": [
    "### 何回も使うと思うので、ホームディレクトリにリソースフォルダを作成してそこにneologdをインストールする"
   ]
  },
  {
   "cell_type": "code",
   "execution_count": 8,
   "metadata": {},
   "outputs": [],
   "source": [
    "!mkdir ~/resources"
   ]
  },
  {
   "cell_type": "markdown",
   "metadata": {},
   "source": [
    "以下、コマンドのメモ\n",
    "\n",
    "```\n",
    "cd ~/resources\n",
    "git clone --depth 1 https://github.com/neologd/mecab-ipadic-neologd.git\n",
    "cd mecab-ipadic-neologd\n",
    "./bin/install-mecab-ipadic-neologd -n\n",
    "```"
   ]
  },
  {
   "cell_type": "code",
   "execution_count": 12,
   "metadata": {},
   "outputs": [
    {
     "name": "stdout",
     "output_type": "stream",
     "text": [
      "Collecting mecab-python3\n",
      "  Downloading https://files.pythonhosted.org/packages/25/e9/bbf5fc790a2bedd96fbaf47a84afa060bfb0b3e0217e5f64b32bd4bbad69/mecab-python3-0.7.tar.gz (41kB)\n",
      "\u001b[K    100% |████████████████████████████████| 51kB 4.7MB/s ta 0:00:01\n",
      "\u001b[?25hBuilding wheels for collected packages: mecab-python3\n",
      "  Running setup.py bdist_wheel for mecab-python3 ... \u001b[?25ldone\n",
      "\u001b[?25h  Stored in directory: /Users/rin.kikuchi/Library/Caches/pip/wheels/4c/07/3a/5f22ccc9f381f3bc01fa023202061cd1e0e9af855292f005dd\n",
      "Successfully built mecab-python3\n",
      "Installing collected packages: mecab-python3\n",
      "Successfully installed mecab-python3-0.7\n",
      "\u001b[33mYou are using pip version 9.0.1, however version 10.0.1 is available.\n",
      "You should consider upgrading via the 'pip install --upgrade pip' command.\u001b[0m\n"
     ]
    }
   ],
   "source": [
    "!pip install mecab-python3"
   ]
  },
  {
   "cell_type": "code",
   "execution_count": 13,
   "metadata": {},
   "outputs": [
    {
     "name": "stdout",
     "output_type": "stream",
     "text": [
      "/usr/local/lib/mecab/dic/mecab-ipadic-neologd\r\n"
     ]
    }
   ],
   "source": [
    "!echo `mecab-config --dicdir`\"/mecab-ipadic-neologd\""
   ]
  },
  {
   "cell_type": "markdown",
   "metadata": {},
   "source": [
    "### テスト"
   ]
  },
  {
   "cell_type": "code",
   "execution_count": 1,
   "metadata": {},
   "outputs": [
    {
     "name": "stdout",
     "output_type": "stream",
     "text": [
      " , *\n",
      "解析 , サ変接続\n",
      "し , 自立\n",
      "たい , *\n",
      "テキスト , 一般\n",
      " , *\n"
     ]
    }
   ],
   "source": [
    "import MeCab\n",
    "\n",
    "mecab = MeCab.Tagger ('-d /usr/local/lib/mecab/dic/mecab-ipadic-neologd')\n",
    "\n",
    "text = '解析したいテキスト'\n",
    "mecab.parse('')#文字列がGCされるのを防ぐ\n",
    "node = mecab.parseToNode(text)\n",
    "while node:\n",
    "    #単語を取得\n",
    "    word = node.surface\n",
    "    #品詞を取得\n",
    "    pos = node.feature.split(\",\")[1]\n",
    "    print('{0} , {1}'.format(word, pos))\n",
    "    #次の単語に進める\n",
    "    node = node.next"
   ]
  },
  {
   "cell_type": "markdown",
   "metadata": {},
   "source": [
    "### 集めたツイートを形態素解析して保存する"
   ]
  },
  {
   "cell_type": "code",
   "execution_count": 2,
   "metadata": {},
   "outputs": [],
   "source": [
    "import pandas"
   ]
  },
  {
   "cell_type": "code",
   "execution_count": 3,
   "metadata": {},
   "outputs": [],
   "source": [
    "df = pandas.read_csv(\"output/deresute.tsv\", sep=\"\\t\", engine='python', index_col=None)"
   ]
  },
  {
   "cell_type": "code",
   "execution_count": 4,
   "metadata": {},
   "outputs": [
    {
     "data": {
      "text/html": [
       "<div>\n",
       "<style scoped>\n",
       "    .dataframe tbody tr th:only-of-type {\n",
       "        vertical-align: middle;\n",
       "    }\n",
       "\n",
       "    .dataframe tbody tr th {\n",
       "        vertical-align: top;\n",
       "    }\n",
       "\n",
       "    .dataframe thead th {\n",
       "        text-align: right;\n",
       "    }\n",
       "</style>\n",
       "<table border=\"1\" class=\"dataframe\">\n",
       "  <thead>\n",
       "    <tr style=\"text-align: right;\">\n",
       "      <th></th>\n",
       "      <th>Unnamed: 0</th>\n",
       "      <th>created_time</th>\n",
       "      <th>descripton</th>\n",
       "      <th>favorite_count</th>\n",
       "      <th>retweet_count</th>\n",
       "      <th>tweet_text</th>\n",
       "    </tr>\n",
       "  </thead>\n",
       "  <tbody>\n",
       "    <tr>\n",
       "      <th>0</th>\n",
       "      <td>0</td>\n",
       "      <td>2018-05-09 05:23:54</td>\n",
       "      <td>ガンダム勢 TF SDガンダム 四条貴音 水瀬伊織 北上麗花 桜守歌織 鷺沢文香 高峯のあ ...</td>\n",
       "      <td>1</td>\n",
       "      <td>2.0</td>\n",
       "      <td>前回の総選挙とまとめてみた1票でもいいので私の担当をよろしくお願いします#第七回シンデレラガ...</td>\n",
       "    </tr>\n",
       "    <tr>\n",
       "      <th>1</th>\n",
       "      <td>1</td>\n",
       "      <td>2018-05-09 05:23:43</td>\n",
       "      <td>ディズニーランドに住みたい。成人済。</td>\n",
       "      <td>0</td>\n",
       "      <td>0.0</td>\n",
       "      <td>【アイドルマスター シンデレラガールズ　スターライトステージ】でシンデレラガール総選挙開催中...</td>\n",
       "    </tr>\n",
       "    <tr>\n",
       "      <th>2</th>\n",
       "      <td>2</td>\n",
       "      <td>2018-05-09 05:23:43</td>\n",
       "      <td>アニメ/ゲーム/ロボット/仮面ライダー/水樹奈々/雪村杏/ミリタリー/世界史/戦国/自動車/...</td>\n",
       "      <td>0</td>\n",
       "      <td>0.0</td>\n",
       "      <td>【アイドルマスター シンデレラガールズ　スターライトステージ】でシンデレラガール総選挙開催中...</td>\n",
       "    </tr>\n",
       "    <tr>\n",
       "      <th>3</th>\n",
       "      <td>3</td>\n",
       "      <td>2018-05-09 05:23:33</td>\n",
       "      <td>グッズ取引用アカウント。好きなキャラも交換譲渡に出すことがあります。本垢有り。成人済：大阪</td>\n",
       "      <td>0</td>\n",
       "      <td>0.0</td>\n",
       "      <td>【譲渡】シンデレラ モバマス デレマス デレステ しんげき おまんじゅう （譲）★神崎蘭子1...</td>\n",
       "    </tr>\n",
       "    <tr>\n",
       "      <th>4</th>\n",
       "      <td>4</td>\n",
       "      <td>2018-05-09 05:23:23</td>\n",
       "      <td>「アイドルマスター シンデレラガールズ スターライトステージ」専門リセマラアカウント販売を行...</td>\n",
       "      <td>0</td>\n",
       "      <td>0.0</td>\n",
       "      <td>◆デレステ リセマラ垢　販売多田李衣菜 SSR ＜ヒート＆ビート＞アマゾンギフト or We...</td>\n",
       "    </tr>\n",
       "  </tbody>\n",
       "</table>\n",
       "</div>"
      ],
      "text/plain": [
       "  Unnamed: 0         created_time  \\\n",
       "0          0  2018-05-09 05:23:54   \n",
       "1          1  2018-05-09 05:23:43   \n",
       "2          2  2018-05-09 05:23:43   \n",
       "3          3  2018-05-09 05:23:33   \n",
       "4          4  2018-05-09 05:23:23   \n",
       "\n",
       "                                          descripton favorite_count  \\\n",
       "0  ガンダム勢 TF SDガンダム 四条貴音 水瀬伊織 北上麗花 桜守歌織 鷺沢文香 高峯のあ ...              1   \n",
       "1                                 ディズニーランドに住みたい。成人済。              0   \n",
       "2  アニメ/ゲーム/ロボット/仮面ライダー/水樹奈々/雪村杏/ミリタリー/世界史/戦国/自動車/...              0   \n",
       "3      グッズ取引用アカウント。好きなキャラも交換譲渡に出すことがあります。本垢有り。成人済：大阪              0   \n",
       "4  「アイドルマスター シンデレラガールズ スターライトステージ」専門リセマラアカウント販売を行...              0   \n",
       "\n",
       "   retweet_count                                         tweet_text  \n",
       "0            2.0  前回の総選挙とまとめてみた1票でもいいので私の担当をよろしくお願いします#第七回シンデレラガ...  \n",
       "1            0.0  【アイドルマスター シンデレラガールズ　スターライトステージ】でシンデレラガール総選挙開催中...  \n",
       "2            0.0  【アイドルマスター シンデレラガールズ　スターライトステージ】でシンデレラガール総選挙開催中...  \n",
       "3            0.0  【譲渡】シンデレラ モバマス デレマス デレステ しんげき おまんじゅう （譲）★神崎蘭子1...  \n",
       "4            0.0  ◆デレステ リセマラ垢　販売多田李衣菜 SSR ＜ヒート＆ビート＞アマゾンギフト or We...  "
      ]
     },
     "execution_count": 4,
     "metadata": {},
     "output_type": "execute_result"
    }
   ],
   "source": [
    "df.head()"
   ]
  },
  {
   "cell_type": "code",
   "execution_count": 76,
   "metadata": {},
   "outputs": [],
   "source": [
    "test = df[\"descripton\"][1]"
   ]
  },
  {
   "cell_type": "code",
   "execution_count": 77,
   "metadata": {},
   "outputs": [
    {
     "name": "stdout",
     "output_type": "stream",
     "text": [
      " , BOS/EOS,*,*,*,*,*,*,*,*\n",
      "ディズニーランド , 名詞,固有名詞,一般,*,*,*,ディズニーランド,ディズニーランド,ディズニーランド\n",
      "に , 助詞,格助詞,一般,*,*,*,に,ニ,ニ\n",
      "住み , 動詞,自立,*,*,五段・マ行,連用形,住む,スミ,スミ\n",
      "たい , 助動詞,*,*,*,特殊・タイ,基本形,たい,タイ,タイ\n",
      "。 , 記号,句点,*,*,*,*,。,。,。\n",
      "成人 , 名詞,サ変接続,*,*,*,*,成人,セイジン,セイジン\n",
      "済 , 名詞,一般,*,*,*,*,済,スミ,スミ\n",
      "。 , 記号,句点,*,*,*,*,。,。,。\n",
      " , BOS/EOS,*,*,*,*,*,*,*,*\n"
     ]
    }
   ],
   "source": [
    "node = mecab.parseToNode(test)\n",
    "while node:\n",
    "    #単語を取得\n",
    "    word = node.surface\n",
    "    #品詞を取得\n",
    "    feature = node.feature\n",
    "    print('{0} , {1}'.format(word, feature))\n",
    "    #次の単語に進める\n",
    "    node = node.next"
   ]
  },
  {
   "cell_type": "code",
   "execution_count": 78,
   "metadata": {},
   "outputs": [],
   "source": [
    "test = df[\"descripton\"][2]"
   ]
  },
  {
   "cell_type": "code",
   "execution_count": 79,
   "metadata": {},
   "outputs": [
    {
     "name": "stdout",
     "output_type": "stream",
     "text": [
      " , BOS/EOS,*,*,*,*,*,*,*,*\n",
      "アニメ , 名詞,一般,*,*,*,*,アニメ,アニメ,アニメ\n",
      "/ , 記号,一般,*,*,*,*,*\n",
      "ゲーム , 名詞,一般,*,*,*,*,ゲーム,ゲーム,ゲーム\n",
      "/ , 記号,一般,*,*,*,*,*\n",
      "ロボット , 名詞,一般,*,*,*,*,ロボット,ロボット,ロボット\n",
      "/ , 記号,一般,*,*,*,*,*\n",
      "仮面ライダー , 名詞,固有名詞,一般,*,*,*,仮面ライダー,カメンライダー,カメンライダー\n",
      "/ , 記号,一般,*,*,*,*,*\n",
      "水樹 , 名詞,固有名詞,人名,姓,*,*,水樹,ミズキ,ミズキ\n",
      "奈々 , 名詞,固有名詞,人名,名,*,*,奈々,ナナ,ナナ\n",
      "/ , 記号,一般,*,*,*,*,*\n",
      "雪村 , 名詞,固有名詞,人名,姓,*,*,雪村,ユキムラ,ユキムラ\n",
      "杏 , 名詞,固有名詞,人名,名,*,*,杏,アンズ,アンズ\n",
      "/ , 記号,一般,*,*,*,*,*\n",
      "ミリタリー , 名詞,一般,*,*,*,*,ミリタリー,ミリタリー,ミリタリー\n",
      "/ , 記号,一般,*,*,*,*,*\n",
      "世界史 , 名詞,固有名詞,一般,*,*,*,世界史,セカイシ,セカイシ\n",
      "/ , 記号,一般,*,*,*,*,*\n",
      "戦国 , 名詞,一般,*,*,*,*,戦国,センゴク,センゴク\n",
      "/ , 記号,一般,*,*,*,*,*\n",
      "自動車 , 名詞,一般,*,*,*,*,自動車,ジドウシャ,ジドーシャ\n",
      "/ , 記号,一般,*,*,*,*,*\n",
      "バイク , 名詞,一般,*,*,*,*,バイク,バイク,バイク\n",
      "/ , 記号,一般,*,*,*,*,*\n",
      "艦これ , 名詞,固有名詞,一般,*,*,*,艦これ,カンコレ,カンコレ\n",
      "/ , 記号,一般,*,*,*,*,*\n",
      "FGO , 名詞,固有名詞,一般,*,*,*,FGO,エフジーオー,エフジーオー\n",
      "/ , 記号,一般,*,*,*,*,*\n",
      "デレステ , 名詞,固有名詞,一般,*,*,*,デレステ,デレステ,デレステ\n",
      "/ , 記号,一般,*,*,*,*,*\n",
      "ガル , 名詞,固有名詞,人名,名,*,*,ガル,ガル,ガル\n",
      "パ , 名詞,固有名詞,組織,*,*,*,パ,パ,パ\n",
      "/ , 記号,一般,*,*,*,*,*\n",
      "グラブル , 名詞,固有名詞,一般,*,*,*,グラブル,グラブル,グラブル\n",
      "/ , 記号,一般,*,*,*,*,*\n",
      "アズレン , 名詞,固有名詞,一般,*,*,*,アズレン,アズレン,アズレン\n",
      "/ , 記号,一般,*,*,*,*,*\n",
      "ChaosTCG , 名詞,固有名詞,組織,*,*,*,*\n",
      "/ , 記号,一般,*,*,*,*,*\n",
      "WS , 名詞,固有名詞,一般,*,*,*,WS,ダブルエス,ダブルエス\n",
      "など , 助詞,副助詞,*,*,*,*,など,ナド,ナド\n",
      "サブカル , 名詞,固有名詞,一般,*,*,*,サブカル,サブカル,サブカル\n",
      "に , 助詞,格助詞,一般,*,*,*,に,ニ,ニ\n",
      "傾い , 動詞,自立,*,*,五段・カ行イ音便,連用タ接続,傾く,カタムイ,カタムイ\n",
      "た , 助動詞,*,*,*,特殊・タ,基本形,た,タ,タ\n",
      "趣味 , 名詞,一般,*,*,*,*,趣味,シュミ,シュミ\n",
      "持ち , 名詞,接尾,一般,*,*,*,持ち,モチ,モチ\n",
      "。 , 記号,句点,*,*,*,*,。,。,。\n",
      "黒 , 名詞,一般,*,*,*,*,黒,クロ,クロ\n",
      "× , 記号,一般,*,*,*,*,×,カケル,カケル\n",
      "灰 , 名詞,一般,*,*,*,*,灰,ハイ,ハイ\n",
      "Ninja , 名詞,一般,*,*,*,*,*\n",
      "250 , 名詞,数,*,*,*,*,*\n",
      "ABS , 名詞,固有名詞,一般,*,*,*,ABS,エービーエス,エービーエス\n",
      "SE , 名詞,固有名詞,一般,*,*,*,SE,エスイー,エスイー\n",
      "15年 , 名詞,固有名詞,一般,*,*,*,15年,ジュウゴネン,ジュウゴネン\n",
      "式 , 名詞,接尾,一般,*,*,*,式,シキ,シキ\n",
      "に , 助詞,格助詞,一般,*,*,*,に,ニ,ニ\n",
      "乗っ , 動詞,自立,*,*,五段・ラ行,連用タ接続,乗る,ノッ,ノッ\n",
      "て , 助詞,接続助詞,*,*,*,*,て,テ,テ\n",
      "ます , 助動詞,*,*,*,特殊・マス,基本形,ます,マス,マス\n",
      "。 , 記号,句点,*,*,*,*,。,。,。\n",
      "プレ , 名詞,固有名詞,組織,*,*,*,プレ,プレ,プレ\n",
      "NAS , 名詞,固有名詞,人名,一般,*,*,NAS,ナス,ナス\n",
      "民 , 名詞,接尾,一般,*,*,*,民,ミン,ミン\n",
      "え , フィラー,*,*,*,*,*,え,エ,エ\n",
      "ど , 接頭詞,名詞接続,*,*,*,*,ど,ド,ド\n",
      "ふみ , 名詞,一般,*,*,*,*,ふみ,フミ,フミ\n",
      "応援 , 名詞,サ変接続,*,*,*,*,応援,オウエン,オーエン\n",
      "中 , 名詞,接尾,副詞可能,*,*,*,中,チュウ,チュー\n",
      "。 , 記号,句点,*,*,*,*,。,。,。\n",
      " , BOS/EOS,*,*,*,*,*,*,*,*\n"
     ]
    }
   ],
   "source": [
    "node = mecab.parseToNode(test)\n",
    "while node:\n",
    "    #単語を取得\n",
    "    word = node.surface\n",
    "    #品詞を取得\n",
    "    feature = node.feature\n",
    "    print('{0} , {1}'.format(word, feature))\n",
    "    #次の単語に進める\n",
    "    node = node.next"
   ]
  },
  {
   "cell_type": "markdown",
   "metadata": {},
   "source": [
    "ガルパが入っていなかったりするが、グラブル、アズレン、デレステなどは入っているのでそれなりにつかえる、かも知れない？"
   ]
  },
  {
   "cell_type": "markdown",
   "metadata": {},
   "source": [
    "### 実装予定\n",
    "- 紹介文とツイートの形態素解析結果の保存\n",
    "- ツイートの形態素解析結果からツイートの感情分析をルールベースで実装しスコアを保存\n",
    "- ↑の情報を含めた上でDataFrameを保存"
   ]
  },
  {
   "cell_type": "code",
   "execution_count": 5,
   "metadata": {},
   "outputs": [],
   "source": [
    "test_df = df.head()"
   ]
  },
  {
   "cell_type": "code",
   "execution_count": 6,
   "metadata": {},
   "outputs": [
    {
     "data": {
      "text/html": [
       "<div>\n",
       "<style scoped>\n",
       "    .dataframe tbody tr th:only-of-type {\n",
       "        vertical-align: middle;\n",
       "    }\n",
       "\n",
       "    .dataframe tbody tr th {\n",
       "        vertical-align: top;\n",
       "    }\n",
       "\n",
       "    .dataframe thead th {\n",
       "        text-align: right;\n",
       "    }\n",
       "</style>\n",
       "<table border=\"1\" class=\"dataframe\">\n",
       "  <thead>\n",
       "    <tr style=\"text-align: right;\">\n",
       "      <th></th>\n",
       "      <th>Unnamed: 0</th>\n",
       "      <th>created_time</th>\n",
       "      <th>descripton</th>\n",
       "      <th>favorite_count</th>\n",
       "      <th>retweet_count</th>\n",
       "      <th>tweet_text</th>\n",
       "    </tr>\n",
       "  </thead>\n",
       "  <tbody>\n",
       "    <tr>\n",
       "      <th>0</th>\n",
       "      <td>0</td>\n",
       "      <td>2018-05-09 05:23:54</td>\n",
       "      <td>ガンダム勢 TF SDガンダム 四条貴音 水瀬伊織 北上麗花 桜守歌織 鷺沢文香 高峯のあ ...</td>\n",
       "      <td>1</td>\n",
       "      <td>2.0</td>\n",
       "      <td>前回の総選挙とまとめてみた1票でもいいので私の担当をよろしくお願いします#第七回シンデレラガ...</td>\n",
       "    </tr>\n",
       "    <tr>\n",
       "      <th>1</th>\n",
       "      <td>1</td>\n",
       "      <td>2018-05-09 05:23:43</td>\n",
       "      <td>ディズニーランドに住みたい。成人済。</td>\n",
       "      <td>0</td>\n",
       "      <td>0.0</td>\n",
       "      <td>【アイドルマスター シンデレラガールズ　スターライトステージ】でシンデレラガール総選挙開催中...</td>\n",
       "    </tr>\n",
       "    <tr>\n",
       "      <th>2</th>\n",
       "      <td>2</td>\n",
       "      <td>2018-05-09 05:23:43</td>\n",
       "      <td>アニメ/ゲーム/ロボット/仮面ライダー/水樹奈々/雪村杏/ミリタリー/世界史/戦国/自動車/...</td>\n",
       "      <td>0</td>\n",
       "      <td>0.0</td>\n",
       "      <td>【アイドルマスター シンデレラガールズ　スターライトステージ】でシンデレラガール総選挙開催中...</td>\n",
       "    </tr>\n",
       "    <tr>\n",
       "      <th>3</th>\n",
       "      <td>3</td>\n",
       "      <td>2018-05-09 05:23:33</td>\n",
       "      <td>グッズ取引用アカウント。好きなキャラも交換譲渡に出すことがあります。本垢有り。成人済：大阪</td>\n",
       "      <td>0</td>\n",
       "      <td>0.0</td>\n",
       "      <td>【譲渡】シンデレラ モバマス デレマス デレステ しんげき おまんじゅう （譲）★神崎蘭子1...</td>\n",
       "    </tr>\n",
       "    <tr>\n",
       "      <th>4</th>\n",
       "      <td>4</td>\n",
       "      <td>2018-05-09 05:23:23</td>\n",
       "      <td>「アイドルマスター シンデレラガールズ スターライトステージ」専門リセマラアカウント販売を行...</td>\n",
       "      <td>0</td>\n",
       "      <td>0.0</td>\n",
       "      <td>◆デレステ リセマラ垢　販売多田李衣菜 SSR ＜ヒート＆ビート＞アマゾンギフト or We...</td>\n",
       "    </tr>\n",
       "  </tbody>\n",
       "</table>\n",
       "</div>"
      ],
      "text/plain": [
       "  Unnamed: 0         created_time  \\\n",
       "0          0  2018-05-09 05:23:54   \n",
       "1          1  2018-05-09 05:23:43   \n",
       "2          2  2018-05-09 05:23:43   \n",
       "3          3  2018-05-09 05:23:33   \n",
       "4          4  2018-05-09 05:23:23   \n",
       "\n",
       "                                          descripton favorite_count  \\\n",
       "0  ガンダム勢 TF SDガンダム 四条貴音 水瀬伊織 北上麗花 桜守歌織 鷺沢文香 高峯のあ ...              1   \n",
       "1                                 ディズニーランドに住みたい。成人済。              0   \n",
       "2  アニメ/ゲーム/ロボット/仮面ライダー/水樹奈々/雪村杏/ミリタリー/世界史/戦国/自動車/...              0   \n",
       "3      グッズ取引用アカウント。好きなキャラも交換譲渡に出すことがあります。本垢有り。成人済：大阪              0   \n",
       "4  「アイドルマスター シンデレラガールズ スターライトステージ」専門リセマラアカウント販売を行...              0   \n",
       "\n",
       "   retweet_count                                         tweet_text  \n",
       "0            2.0  前回の総選挙とまとめてみた1票でもいいので私の担当をよろしくお願いします#第七回シンデレラガ...  \n",
       "1            0.0  【アイドルマスター シンデレラガールズ　スターライトステージ】でシンデレラガール総選挙開催中...  \n",
       "2            0.0  【アイドルマスター シンデレラガールズ　スターライトステージ】でシンデレラガール総選挙開催中...  \n",
       "3            0.0  【譲渡】シンデレラ モバマス デレマス デレステ しんげき おまんじゅう （譲）★神崎蘭子1...  \n",
       "4            0.0  ◆デレステ リセマラ垢　販売多田李衣菜 SSR ＜ヒート＆ビート＞アマゾンギフト or We...  "
      ]
     },
     "execution_count": 6,
     "metadata": {},
     "output_type": "execute_result"
    }
   ],
   "source": [
    "test_df"
   ]
  },
  {
   "cell_type": "code",
   "execution_count": 74,
   "metadata": {},
   "outputs": [],
   "source": [
    "def sentence_to_mecab_parse_data(sentence):\n",
    "    parse_data_list = []\n",
    "    \n",
    "    node = mecab.parseToNode(sentence)\n",
    "    while node:\n",
    "        #単語を取得\n",
    "        word = node.surface\n",
    "        #品詞を取得\n",
    "        feature = node.feature\n",
    "        parse_data_list.append((word, feature))\n",
    "        #次の単語に進める\n",
    "        node = node.next\n",
    "    return parse_data_list"
   ]
  },
  {
   "cell_type": "markdown",
   "metadata": {},
   "source": [
    "### テスト用（リストをDataframeに保存した時に復帰できるか的なやーつ）"
   ]
  },
  {
   "cell_type": "code",
   "execution_count": 31,
   "metadata": {},
   "outputs": [],
   "source": [
    "test_list_str = \"\"\"\n",
    "[('', 'BOS/EOS,*,*,*,*,*,*,*,*'), ('ガンダム', '名詞,固有名詞,一般,*,*,*,GUNDAM,ガンダム,ガンダム'), ('勢', '名詞,接尾,一般,*,*,*,勢,ゼイ,ゼイ'), ('TF', '名詞,一般,*,*,*,*,*'), ('SDガンダム', '名詞,固有名詞,一般,*,*,*,SDガンダム,エスディーガンダム,エスディーガンダム'), ('四条貴音', '名詞,固有名詞,一般,*,*,*,四条貴音,シジョウタカネ,シジョータカネ'), ('水瀬伊織', '名詞,固有名詞,一般,*,*,*,水瀬伊織,ミナセイオリ,ミナセイオリ'), ('北上麗花', '名詞,固有名詞,一般,*,*,*,北上麗花,キタカミレイカ,キタカミレイカ'), ('桜守歌織', '名詞,固有名詞,一般,*,*,*,桜守歌織,サクラモリカオリ,サクラモリカオリ'), ('鷺沢文香', '名詞,固有名詞,人名,一般,*,*,鷺沢文香,サギサワフミカ,サギサワフミカ'), ('高峯のあ', '名詞,固有名詞,人名,一般,*,*,高峯のあ,タカミネノア,タカミネノア'), ('アナスタシア', '名詞,固有名詞,人名,一般,*,*,Anastacia,アナスタシア,アナスタシア'), ('佐城', '名詞,固有名詞,人名,姓,*,*,佐城,サシロ,サシロ'), ('雪美', '名詞,固有名詞,人名,名,*,*,雪美,ユキミ,ユキミ'), ('塩見周子', '名詞,固有名詞,人名,一般,*,*,塩見周子,シオミシュウコ,シオミシュウコ'), ('杜野凛世', '名詞,固有名詞,人名,一般,*,*,杜野凛世,モリノリンゼ,モリノリンゼ'), ('担当', '名詞,サ変接続,*,*,*,*,担当,タントウ,タントー'), ('相葉夕美', '名詞,固有名詞,人名,一般,*,*,相葉夕美,アイバユミ,アイバユミ'), ('一ノ瀬志希', '名詞,固有名詞,人名,一般,*,*,一ノ瀬志希,イチノセシキ,イチノセシキ'), ('にゃんにゃん', '名詞,固有名詞,一般,*,*,*,にゃんにゃん,ニャンニャン,ニャンニャン'), ('にゃん', '副詞,一般,*,*,*,*,にゃん,ニャン,ニャン'), ('アイン', '名詞,固有名詞,人名,姓,*,*,アイン,アイン,アイン'), ('フェリア', '名詞,固有名詞,一般,*,*,*,フェリア,フェリア,フェリア'), ('CAERULA', '名詞,一般,*,*,*,*,*'), ('LiPPS', '名詞,固有名詞,組織,*,*,*,*'), ('', 'BOS/EOS,*,*,*,*,*,*,*,*')]\n",
    "\"\"\""
   ]
  },
  {
   "cell_type": "code",
   "execution_count": 37,
   "metadata": {},
   "outputs": [
    {
     "data": {
      "text/plain": [
       "[('', 'BOS/EOS,*,*,*,*,*,*,*,*'),\n",
       " ('ガンダム', '名詞,固有名詞,一般,*,*,*,GUNDAM,ガンダム,ガンダム'),\n",
       " ('勢', '名詞,接尾,一般,*,*,*,勢,ゼイ,ゼイ'),\n",
       " ('TF', '名詞,一般,*,*,*,*,*'),\n",
       " ('SDガンダム', '名詞,固有名詞,一般,*,*,*,SDガンダム,エスディーガンダム,エスディーガンダム'),\n",
       " ('四条貴音', '名詞,固有名詞,一般,*,*,*,四条貴音,シジョウタカネ,シジョータカネ'),\n",
       " ('水瀬伊織', '名詞,固有名詞,一般,*,*,*,水瀬伊織,ミナセイオリ,ミナセイオリ'),\n",
       " ('北上麗花', '名詞,固有名詞,一般,*,*,*,北上麗花,キタカミレイカ,キタカミレイカ'),\n",
       " ('桜守歌織', '名詞,固有名詞,一般,*,*,*,桜守歌織,サクラモリカオリ,サクラモリカオリ'),\n",
       " ('鷺沢文香', '名詞,固有名詞,人名,一般,*,*,鷺沢文香,サギサワフミカ,サギサワフミカ'),\n",
       " ('高峯のあ', '名詞,固有名詞,人名,一般,*,*,高峯のあ,タカミネノア,タカミネノア'),\n",
       " ('アナスタシア', '名詞,固有名詞,人名,一般,*,*,Anastacia,アナスタシア,アナスタシア'),\n",
       " ('佐城', '名詞,固有名詞,人名,姓,*,*,佐城,サシロ,サシロ'),\n",
       " ('雪美', '名詞,固有名詞,人名,名,*,*,雪美,ユキミ,ユキミ'),\n",
       " ('塩見周子', '名詞,固有名詞,人名,一般,*,*,塩見周子,シオミシュウコ,シオミシュウコ'),\n",
       " ('杜野凛世', '名詞,固有名詞,人名,一般,*,*,杜野凛世,モリノリンゼ,モリノリンゼ'),\n",
       " ('担当', '名詞,サ変接続,*,*,*,*,担当,タントウ,タントー'),\n",
       " ('相葉夕美', '名詞,固有名詞,人名,一般,*,*,相葉夕美,アイバユミ,アイバユミ'),\n",
       " ('一ノ瀬志希', '名詞,固有名詞,人名,一般,*,*,一ノ瀬志希,イチノセシキ,イチノセシキ'),\n",
       " ('にゃんにゃん', '名詞,固有名詞,一般,*,*,*,にゃんにゃん,ニャンニャン,ニャンニャン'),\n",
       " ('にゃん', '副詞,一般,*,*,*,*,にゃん,ニャン,ニャン'),\n",
       " ('アイン', '名詞,固有名詞,人名,姓,*,*,アイン,アイン,アイン'),\n",
       " ('フェリア', '名詞,固有名詞,一般,*,*,*,フェリア,フェリア,フェリア'),\n",
       " ('CAERULA', '名詞,一般,*,*,*,*,*'),\n",
       " ('LiPPS', '名詞,固有名詞,組織,*,*,*,*'),\n",
       " ('', 'BOS/EOS,*,*,*,*,*,*,*,*')]"
      ]
     },
     "execution_count": 37,
     "metadata": {},
     "output_type": "execute_result"
    }
   ],
   "source": [
    "from ast import literal_eval\n",
    "literal_eval(test_list_str)"
   ]
  },
  {
   "cell_type": "code",
   "execution_count": 38,
   "metadata": {},
   "outputs": [],
   "source": [
    "description_mecab = []\n",
    "tweet_text_mecab = []\n",
    "\n",
    "for i, row in test_df.iterrows():\n",
    "    description_mecab.append(sentence_to_mecab_parse_data(row[\"descripton\"]))\n",
    "    tweet_text_mecab.append(sentence_to_mecab_parse_data(row[\"tweet_text\"]))"
   ]
  },
  {
   "cell_type": "code",
   "execution_count": 44,
   "metadata": {},
   "outputs": [
    {
     "name": "stderr",
     "output_type": "stream",
     "text": [
      "/Users/rin.kikuchi/anaconda/anaconda3/lib/python3.6/site-packages/ipykernel_launcher.py:1: SettingWithCopyWarning: \n",
      "A value is trying to be set on a copy of a slice from a DataFrame.\n",
      "Try using .loc[row_indexer,col_indexer] = value instead\n",
      "\n",
      "See the caveats in the documentation: http://pandas.pydata.org/pandas-docs/stable/indexing.html#indexing-view-versus-copy\n",
      "  \"\"\"Entry point for launching an IPython kernel.\n",
      "/Users/rin.kikuchi/anaconda/anaconda3/lib/python3.6/site-packages/ipykernel_launcher.py:2: SettingWithCopyWarning: \n",
      "A value is trying to be set on a copy of a slice from a DataFrame.\n",
      "Try using .loc[row_indexer,col_indexer] = value instead\n",
      "\n",
      "See the caveats in the documentation: http://pandas.pydata.org/pandas-docs/stable/indexing.html#indexing-view-versus-copy\n",
      "  \n"
     ]
    }
   ],
   "source": [
    "test_df[\"description_mecab\"] = description_mecab\n",
    "test_df[\"tweet_text_mecab\"] = tweet_text_mecab"
   ]
  },
  {
   "cell_type": "code",
   "execution_count": 45,
   "metadata": {},
   "outputs": [
    {
     "data": {
      "text/html": [
       "<div>\n",
       "<style scoped>\n",
       "    .dataframe tbody tr th:only-of-type {\n",
       "        vertical-align: middle;\n",
       "    }\n",
       "\n",
       "    .dataframe tbody tr th {\n",
       "        vertical-align: top;\n",
       "    }\n",
       "\n",
       "    .dataframe thead th {\n",
       "        text-align: right;\n",
       "    }\n",
       "</style>\n",
       "<table border=\"1\" class=\"dataframe\">\n",
       "  <thead>\n",
       "    <tr style=\"text-align: right;\">\n",
       "      <th></th>\n",
       "      <th>Unnamed: 0</th>\n",
       "      <th>created_time</th>\n",
       "      <th>descripton</th>\n",
       "      <th>favorite_count</th>\n",
       "      <th>retweet_count</th>\n",
       "      <th>tweet_text</th>\n",
       "      <th>description_mecab</th>\n",
       "      <th>tweet_text_mecab</th>\n",
       "    </tr>\n",
       "  </thead>\n",
       "  <tbody>\n",
       "    <tr>\n",
       "      <th>0</th>\n",
       "      <td>0</td>\n",
       "      <td>2018-05-09 05:23:54</td>\n",
       "      <td>ガンダム勢 TF SDガンダム 四条貴音 水瀬伊織 北上麗花 桜守歌織 鷺沢文香 高峯のあ ...</td>\n",
       "      <td>1</td>\n",
       "      <td>2.0</td>\n",
       "      <td>前回の総選挙とまとめてみた1票でもいいので私の担当をよろしくお願いします#第七回シンデレラガ...</td>\n",
       "      <td>[(, BOS/EOS,*,*,*,*,*,*,*,*), (ガンダム, 名詞,固有名詞,一...</td>\n",
       "      <td>[(, BOS/EOS,*,*,*,*,*,*,*,*), (前回, 名詞,一般,*,*,*...</td>\n",
       "    </tr>\n",
       "    <tr>\n",
       "      <th>1</th>\n",
       "      <td>1</td>\n",
       "      <td>2018-05-09 05:23:43</td>\n",
       "      <td>ディズニーランドに住みたい。成人済。</td>\n",
       "      <td>0</td>\n",
       "      <td>0.0</td>\n",
       "      <td>【アイドルマスター シンデレラガールズ　スターライトステージ】でシンデレラガール総選挙開催中...</td>\n",
       "      <td>[(, BOS/EOS,*,*,*,*,*,*,*,*), (ディズニーランド, 名詞,固有...</td>\n",
       "      <td>[(, BOS/EOS,*,*,*,*,*,*,*,*), (【, 記号,括弧開,*,*,*...</td>\n",
       "    </tr>\n",
       "    <tr>\n",
       "      <th>2</th>\n",
       "      <td>2</td>\n",
       "      <td>2018-05-09 05:23:43</td>\n",
       "      <td>アニメ/ゲーム/ロボット/仮面ライダー/水樹奈々/雪村杏/ミリタリー/世界史/戦国/自動車/...</td>\n",
       "      <td>0</td>\n",
       "      <td>0.0</td>\n",
       "      <td>【アイドルマスター シンデレラガールズ　スターライトステージ】でシンデレラガール総選挙開催中...</td>\n",
       "      <td>[(, BOS/EOS,*,*,*,*,*,*,*,*), (アニメ, 名詞,一般,*,*,...</td>\n",
       "      <td>[(, BOS/EOS,*,*,*,*,*,*,*,*), (【, 記号,括弧開,*,*,*...</td>\n",
       "    </tr>\n",
       "    <tr>\n",
       "      <th>3</th>\n",
       "      <td>3</td>\n",
       "      <td>2018-05-09 05:23:33</td>\n",
       "      <td>グッズ取引用アカウント。好きなキャラも交換譲渡に出すことがあります。本垢有り。成人済：大阪</td>\n",
       "      <td>0</td>\n",
       "      <td>0.0</td>\n",
       "      <td>【譲渡】シンデレラ モバマス デレマス デレステ しんげき おまんじゅう （譲）★神崎蘭子1...</td>\n",
       "      <td>[(, BOS/EOS,*,*,*,*,*,*,*,*), (グッズ, 名詞,一般,*,*,...</td>\n",
       "      <td>[(, BOS/EOS,*,*,*,*,*,*,*,*), (【, 記号,括弧開,*,*,*...</td>\n",
       "    </tr>\n",
       "    <tr>\n",
       "      <th>4</th>\n",
       "      <td>4</td>\n",
       "      <td>2018-05-09 05:23:23</td>\n",
       "      <td>「アイドルマスター シンデレラガールズ スターライトステージ」専門リセマラアカウント販売を行...</td>\n",
       "      <td>0</td>\n",
       "      <td>0.0</td>\n",
       "      <td>◆デレステ リセマラ垢　販売多田李衣菜 SSR ＜ヒート＆ビート＞アマゾンギフト or We...</td>\n",
       "      <td>[(, BOS/EOS,*,*,*,*,*,*,*,*), (「, 記号,括弧開,*,*,*...</td>\n",
       "      <td>[(, BOS/EOS,*,*,*,*,*,*,*,*), (◆, 記号,一般,*,*,*,...</td>\n",
       "    </tr>\n",
       "  </tbody>\n",
       "</table>\n",
       "</div>"
      ],
      "text/plain": [
       "  Unnamed: 0         created_time  \\\n",
       "0          0  2018-05-09 05:23:54   \n",
       "1          1  2018-05-09 05:23:43   \n",
       "2          2  2018-05-09 05:23:43   \n",
       "3          3  2018-05-09 05:23:33   \n",
       "4          4  2018-05-09 05:23:23   \n",
       "\n",
       "                                          descripton favorite_count  \\\n",
       "0  ガンダム勢 TF SDガンダム 四条貴音 水瀬伊織 北上麗花 桜守歌織 鷺沢文香 高峯のあ ...              1   \n",
       "1                                 ディズニーランドに住みたい。成人済。              0   \n",
       "2  アニメ/ゲーム/ロボット/仮面ライダー/水樹奈々/雪村杏/ミリタリー/世界史/戦国/自動車/...              0   \n",
       "3      グッズ取引用アカウント。好きなキャラも交換譲渡に出すことがあります。本垢有り。成人済：大阪              0   \n",
       "4  「アイドルマスター シンデレラガールズ スターライトステージ」専門リセマラアカウント販売を行...              0   \n",
       "\n",
       "   retweet_count                                         tweet_text  \\\n",
       "0            2.0  前回の総選挙とまとめてみた1票でもいいので私の担当をよろしくお願いします#第七回シンデレラガ...   \n",
       "1            0.0  【アイドルマスター シンデレラガールズ　スターライトステージ】でシンデレラガール総選挙開催中...   \n",
       "2            0.0  【アイドルマスター シンデレラガールズ　スターライトステージ】でシンデレラガール総選挙開催中...   \n",
       "3            0.0  【譲渡】シンデレラ モバマス デレマス デレステ しんげき おまんじゅう （譲）★神崎蘭子1...   \n",
       "4            0.0  ◆デレステ リセマラ垢　販売多田李衣菜 SSR ＜ヒート＆ビート＞アマゾンギフト or We...   \n",
       "\n",
       "                                   description_mecab  \\\n",
       "0  [(, BOS/EOS,*,*,*,*,*,*,*,*), (ガンダム, 名詞,固有名詞,一...   \n",
       "1  [(, BOS/EOS,*,*,*,*,*,*,*,*), (ディズニーランド, 名詞,固有...   \n",
       "2  [(, BOS/EOS,*,*,*,*,*,*,*,*), (アニメ, 名詞,一般,*,*,...   \n",
       "3  [(, BOS/EOS,*,*,*,*,*,*,*,*), (グッズ, 名詞,一般,*,*,...   \n",
       "4  [(, BOS/EOS,*,*,*,*,*,*,*,*), (「, 記号,括弧開,*,*,*...   \n",
       "\n",
       "                                    tweet_text_mecab  \n",
       "0  [(, BOS/EOS,*,*,*,*,*,*,*,*), (前回, 名詞,一般,*,*,*...  \n",
       "1  [(, BOS/EOS,*,*,*,*,*,*,*,*), (【, 記号,括弧開,*,*,*...  \n",
       "2  [(, BOS/EOS,*,*,*,*,*,*,*,*), (【, 記号,括弧開,*,*,*...  \n",
       "3  [(, BOS/EOS,*,*,*,*,*,*,*,*), (【, 記号,括弧開,*,*,*...  \n",
       "4  [(, BOS/EOS,*,*,*,*,*,*,*,*), (◆, 記号,一般,*,*,*,...  "
      ]
     },
     "execution_count": 45,
     "metadata": {},
     "output_type": "execute_result"
    }
   ],
   "source": [
    "test_df"
   ]
  },
  {
   "cell_type": "code",
   "execution_count": 58,
   "metadata": {},
   "outputs": [],
   "source": [
    "test_df.to_csv(\"output/deresute_mecab.tsv\", sep=\"\\t\", index=None)"
   ]
  },
  {
   "cell_type": "code",
   "execution_count": 59,
   "metadata": {},
   "outputs": [],
   "source": [
    "del test_df"
   ]
  },
  {
   "cell_type": "code",
   "execution_count": 60,
   "metadata": {},
   "outputs": [],
   "source": [
    "test_df = pandas.read_csv(\"output/deresute_mecab.tsv\", sep=\"\\t\", engine=\"python\")"
   ]
  },
  {
   "cell_type": "code",
   "execution_count": 61,
   "metadata": {},
   "outputs": [
    {
     "data": {
      "text/html": [
       "<div>\n",
       "<style scoped>\n",
       "    .dataframe tbody tr th:only-of-type {\n",
       "        vertical-align: middle;\n",
       "    }\n",
       "\n",
       "    .dataframe tbody tr th {\n",
       "        vertical-align: top;\n",
       "    }\n",
       "\n",
       "    .dataframe thead th {\n",
       "        text-align: right;\n",
       "    }\n",
       "</style>\n",
       "<table border=\"1\" class=\"dataframe\">\n",
       "  <thead>\n",
       "    <tr style=\"text-align: right;\">\n",
       "      <th></th>\n",
       "      <th>created_time</th>\n",
       "      <th>descripton</th>\n",
       "      <th>favorite_count</th>\n",
       "      <th>retweet_count</th>\n",
       "      <th>tweet_text</th>\n",
       "      <th>description_mecab</th>\n",
       "      <th>tweet_text_mecab</th>\n",
       "    </tr>\n",
       "  </thead>\n",
       "  <tbody>\n",
       "    <tr>\n",
       "      <th>0</th>\n",
       "      <td>2018-05-09 05:23:54</td>\n",
       "      <td>ガンダム勢 TF SDガンダム 四条貴音 水瀬伊織 北上麗花 桜守歌織 鷺沢文香 高峯のあ ...</td>\n",
       "      <td>1</td>\n",
       "      <td>2.0</td>\n",
       "      <td>前回の総選挙とまとめてみた1票でもいいので私の担当をよろしくお願いします#第七回シンデレラガ...</td>\n",
       "      <td>[('', 'BOS/EOS,*,*,*,*,*,*,*,*'), ('ガンダム', '名詞...</td>\n",
       "      <td>[('', 'BOS/EOS,*,*,*,*,*,*,*,*'), ('前回', '名詞,一...</td>\n",
       "    </tr>\n",
       "    <tr>\n",
       "      <th>1</th>\n",
       "      <td>2018-05-09 05:23:43</td>\n",
       "      <td>ディズニーランドに住みたい。成人済。</td>\n",
       "      <td>0</td>\n",
       "      <td>0.0</td>\n",
       "      <td>【アイドルマスター シンデレラガールズ　スターライトステージ】でシンデレラガール総選挙開催中...</td>\n",
       "      <td>[('', 'BOS/EOS,*,*,*,*,*,*,*,*'), ('ディズニーランド',...</td>\n",
       "      <td>[('', 'BOS/EOS,*,*,*,*,*,*,*,*'), ('【', '記号,括弧...</td>\n",
       "    </tr>\n",
       "    <tr>\n",
       "      <th>2</th>\n",
       "      <td>2018-05-09 05:23:43</td>\n",
       "      <td>アニメ/ゲーム/ロボット/仮面ライダー/水樹奈々/雪村杏/ミリタリー/世界史/戦国/自動車/...</td>\n",
       "      <td>0</td>\n",
       "      <td>0.0</td>\n",
       "      <td>【アイドルマスター シンデレラガールズ　スターライトステージ】でシンデレラガール総選挙開催中...</td>\n",
       "      <td>[('', 'BOS/EOS,*,*,*,*,*,*,*,*'), ('アニメ', '名詞,...</td>\n",
       "      <td>[('', 'BOS/EOS,*,*,*,*,*,*,*,*'), ('【', '記号,括弧...</td>\n",
       "    </tr>\n",
       "    <tr>\n",
       "      <th>3</th>\n",
       "      <td>2018-05-09 05:23:33</td>\n",
       "      <td>グッズ取引用アカウント。好きなキャラも交換譲渡に出すことがあります。本垢有り。成人済：大阪</td>\n",
       "      <td>0</td>\n",
       "      <td>0.0</td>\n",
       "      <td>【譲渡】シンデレラ モバマス デレマス デレステ しんげき おまんじゅう （譲）★神崎蘭子1...</td>\n",
       "      <td>[('', 'BOS/EOS,*,*,*,*,*,*,*,*'), ('グッズ', '名詞,...</td>\n",
       "      <td>[('', 'BOS/EOS,*,*,*,*,*,*,*,*'), ('【', '記号,括弧...</td>\n",
       "    </tr>\n",
       "    <tr>\n",
       "      <th>4</th>\n",
       "      <td>2018-05-09 05:23:23</td>\n",
       "      <td>「アイドルマスター シンデレラガールズ スターライトステージ」専門リセマラアカウント販売を行...</td>\n",
       "      <td>0</td>\n",
       "      <td>0.0</td>\n",
       "      <td>◆デレステ リセマラ垢　販売多田李衣菜 SSR ＜ヒート＆ビート＞アマゾンギフト or We...</td>\n",
       "      <td>[('', 'BOS/EOS,*,*,*,*,*,*,*,*'), ('「', '記号,括弧...</td>\n",
       "      <td>[('', 'BOS/EOS,*,*,*,*,*,*,*,*'), ('◆', '記号,一般...</td>\n",
       "    </tr>\n",
       "  </tbody>\n",
       "</table>\n",
       "</div>"
      ],
      "text/plain": [
       "          created_time                                         descripton  \\\n",
       "0  2018-05-09 05:23:54  ガンダム勢 TF SDガンダム 四条貴音 水瀬伊織 北上麗花 桜守歌織 鷺沢文香 高峯のあ ...   \n",
       "1  2018-05-09 05:23:43                                 ディズニーランドに住みたい。成人済。   \n",
       "2  2018-05-09 05:23:43  アニメ/ゲーム/ロボット/仮面ライダー/水樹奈々/雪村杏/ミリタリー/世界史/戦国/自動車/...   \n",
       "3  2018-05-09 05:23:33      グッズ取引用アカウント。好きなキャラも交換譲渡に出すことがあります。本垢有り。成人済：大阪   \n",
       "4  2018-05-09 05:23:23  「アイドルマスター シンデレラガールズ スターライトステージ」専門リセマラアカウント販売を行...   \n",
       "\n",
       "   favorite_count  retweet_count  \\\n",
       "0               1            2.0   \n",
       "1               0            0.0   \n",
       "2               0            0.0   \n",
       "3               0            0.0   \n",
       "4               0            0.0   \n",
       "\n",
       "                                          tweet_text  \\\n",
       "0  前回の総選挙とまとめてみた1票でもいいので私の担当をよろしくお願いします#第七回シンデレラガ...   \n",
       "1  【アイドルマスター シンデレラガールズ　スターライトステージ】でシンデレラガール総選挙開催中...   \n",
       "2  【アイドルマスター シンデレラガールズ　スターライトステージ】でシンデレラガール総選挙開催中...   \n",
       "3  【譲渡】シンデレラ モバマス デレマス デレステ しんげき おまんじゅう （譲）★神崎蘭子1...   \n",
       "4  ◆デレステ リセマラ垢　販売多田李衣菜 SSR ＜ヒート＆ビート＞アマゾンギフト or We...   \n",
       "\n",
       "                                   description_mecab  \\\n",
       "0  [('', 'BOS/EOS,*,*,*,*,*,*,*,*'), ('ガンダム', '名詞...   \n",
       "1  [('', 'BOS/EOS,*,*,*,*,*,*,*,*'), ('ディズニーランド',...   \n",
       "2  [('', 'BOS/EOS,*,*,*,*,*,*,*,*'), ('アニメ', '名詞,...   \n",
       "3  [('', 'BOS/EOS,*,*,*,*,*,*,*,*'), ('グッズ', '名詞,...   \n",
       "4  [('', 'BOS/EOS,*,*,*,*,*,*,*,*'), ('「', '記号,括弧...   \n",
       "\n",
       "                                    tweet_text_mecab  \n",
       "0  [('', 'BOS/EOS,*,*,*,*,*,*,*,*'), ('前回', '名詞,一...  \n",
       "1  [('', 'BOS/EOS,*,*,*,*,*,*,*,*'), ('【', '記号,括弧...  \n",
       "2  [('', 'BOS/EOS,*,*,*,*,*,*,*,*'), ('【', '記号,括弧...  \n",
       "3  [('', 'BOS/EOS,*,*,*,*,*,*,*,*'), ('【', '記号,括弧...  \n",
       "4  [('', 'BOS/EOS,*,*,*,*,*,*,*,*'), ('◆', '記号,一般...  "
      ]
     },
     "execution_count": 61,
     "metadata": {},
     "output_type": "execute_result"
    }
   ],
   "source": [
    "test_df"
   ]
  },
  {
   "cell_type": "code",
   "execution_count": 64,
   "metadata": {},
   "outputs": [
    {
     "data": {
      "text/plain": [
       "[('', 'BOS/EOS,*,*,*,*,*,*,*,*'),\n",
       " ('ガンダム', '名詞,固有名詞,一般,*,*,*,GUNDAM,ガンダム,ガンダム'),\n",
       " ('勢', '名詞,接尾,一般,*,*,*,勢,ゼイ,ゼイ'),\n",
       " ('TF', '名詞,一般,*,*,*,*,*'),\n",
       " ('SDガンダム', '名詞,固有名詞,一般,*,*,*,SDガンダム,エスディーガンダム,エスディーガンダム'),\n",
       " ('四条貴音', '名詞,固有名詞,一般,*,*,*,四条貴音,シジョウタカネ,シジョータカネ'),\n",
       " ('水瀬伊織', '名詞,固有名詞,一般,*,*,*,水瀬伊織,ミナセイオリ,ミナセイオリ'),\n",
       " ('北上麗花', '名詞,固有名詞,一般,*,*,*,北上麗花,キタカミレイカ,キタカミレイカ'),\n",
       " ('桜守歌織', '名詞,固有名詞,一般,*,*,*,桜守歌織,サクラモリカオリ,サクラモリカオリ'),\n",
       " ('鷺沢文香', '名詞,固有名詞,人名,一般,*,*,鷺沢文香,サギサワフミカ,サギサワフミカ'),\n",
       " ('高峯のあ', '名詞,固有名詞,人名,一般,*,*,高峯のあ,タカミネノア,タカミネノア'),\n",
       " ('アナスタシア', '名詞,固有名詞,人名,一般,*,*,Anastacia,アナスタシア,アナスタシア'),\n",
       " ('佐城', '名詞,固有名詞,人名,姓,*,*,佐城,サシロ,サシロ'),\n",
       " ('雪美', '名詞,固有名詞,人名,名,*,*,雪美,ユキミ,ユキミ'),\n",
       " ('塩見周子', '名詞,固有名詞,人名,一般,*,*,塩見周子,シオミシュウコ,シオミシュウコ'),\n",
       " ('杜野凛世', '名詞,固有名詞,人名,一般,*,*,杜野凛世,モリノリンゼ,モリノリンゼ'),\n",
       " ('担当', '名詞,サ変接続,*,*,*,*,担当,タントウ,タントー'),\n",
       " ('相葉夕美', '名詞,固有名詞,人名,一般,*,*,相葉夕美,アイバユミ,アイバユミ'),\n",
       " ('一ノ瀬志希', '名詞,固有名詞,人名,一般,*,*,一ノ瀬志希,イチノセシキ,イチノセシキ'),\n",
       " ('にゃんにゃん', '名詞,固有名詞,一般,*,*,*,にゃんにゃん,ニャンニャン,ニャンニャン'),\n",
       " ('にゃん', '副詞,一般,*,*,*,*,にゃん,ニャン,ニャン'),\n",
       " ('アイン', '名詞,固有名詞,人名,姓,*,*,アイン,アイン,アイン'),\n",
       " ('フェリア', '名詞,固有名詞,一般,*,*,*,フェリア,フェリア,フェリア'),\n",
       " ('CAERULA', '名詞,一般,*,*,*,*,*'),\n",
       " ('LiPPS', '名詞,固有名詞,組織,*,*,*,*'),\n",
       " ('', 'BOS/EOS,*,*,*,*,*,*,*,*')]"
      ]
     },
     "execution_count": 64,
     "metadata": {},
     "output_type": "execute_result"
    }
   ],
   "source": [
    "literal_eval(test_df[\"description_mecab\"][0])"
   ]
  },
  {
   "cell_type": "markdown",
   "metadata": {},
   "source": [
    "形態素解析結果を一度保存して再度復元できたのでとりあえずこれで。"
   ]
  },
  {
   "cell_type": "markdown",
   "metadata": {},
   "source": [
    "### 実際に読み込んだdataframeに対して処理して保存するまで"
   ]
  },
  {
   "cell_type": "code",
   "execution_count": 65,
   "metadata": {},
   "outputs": [
    {
     "data": {
      "text/html": [
       "<div>\n",
       "<style scoped>\n",
       "    .dataframe tbody tr th:only-of-type {\n",
       "        vertical-align: middle;\n",
       "    }\n",
       "\n",
       "    .dataframe tbody tr th {\n",
       "        vertical-align: top;\n",
       "    }\n",
       "\n",
       "    .dataframe thead th {\n",
       "        text-align: right;\n",
       "    }\n",
       "</style>\n",
       "<table border=\"1\" class=\"dataframe\">\n",
       "  <thead>\n",
       "    <tr style=\"text-align: right;\">\n",
       "      <th></th>\n",
       "      <th>Unnamed: 0</th>\n",
       "      <th>created_time</th>\n",
       "      <th>descripton</th>\n",
       "      <th>favorite_count</th>\n",
       "      <th>retweet_count</th>\n",
       "      <th>tweet_text</th>\n",
       "    </tr>\n",
       "  </thead>\n",
       "  <tbody>\n",
       "    <tr>\n",
       "      <th>0</th>\n",
       "      <td>0</td>\n",
       "      <td>2018-05-09 05:23:54</td>\n",
       "      <td>ガンダム勢 TF SDガンダム 四条貴音 水瀬伊織 北上麗花 桜守歌織 鷺沢文香 高峯のあ ...</td>\n",
       "      <td>1</td>\n",
       "      <td>2.0</td>\n",
       "      <td>前回の総選挙とまとめてみた1票でもいいので私の担当をよろしくお願いします#第七回シンデレラガ...</td>\n",
       "    </tr>\n",
       "    <tr>\n",
       "      <th>1</th>\n",
       "      <td>1</td>\n",
       "      <td>2018-05-09 05:23:43</td>\n",
       "      <td>ディズニーランドに住みたい。成人済。</td>\n",
       "      <td>0</td>\n",
       "      <td>0.0</td>\n",
       "      <td>【アイドルマスター シンデレラガールズ　スターライトステージ】でシンデレラガール総選挙開催中...</td>\n",
       "    </tr>\n",
       "    <tr>\n",
       "      <th>2</th>\n",
       "      <td>2</td>\n",
       "      <td>2018-05-09 05:23:43</td>\n",
       "      <td>アニメ/ゲーム/ロボット/仮面ライダー/水樹奈々/雪村杏/ミリタリー/世界史/戦国/自動車/...</td>\n",
       "      <td>0</td>\n",
       "      <td>0.0</td>\n",
       "      <td>【アイドルマスター シンデレラガールズ　スターライトステージ】でシンデレラガール総選挙開催中...</td>\n",
       "    </tr>\n",
       "    <tr>\n",
       "      <th>3</th>\n",
       "      <td>3</td>\n",
       "      <td>2018-05-09 05:23:33</td>\n",
       "      <td>グッズ取引用アカウント。好きなキャラも交換譲渡に出すことがあります。本垢有り。成人済：大阪</td>\n",
       "      <td>0</td>\n",
       "      <td>0.0</td>\n",
       "      <td>【譲渡】シンデレラ モバマス デレマス デレステ しんげき おまんじゅう （譲）★神崎蘭子1...</td>\n",
       "    </tr>\n",
       "    <tr>\n",
       "      <th>4</th>\n",
       "      <td>4</td>\n",
       "      <td>2018-05-09 05:23:23</td>\n",
       "      <td>「アイドルマスター シンデレラガールズ スターライトステージ」専門リセマラアカウント販売を行...</td>\n",
       "      <td>0</td>\n",
       "      <td>0.0</td>\n",
       "      <td>◆デレステ リセマラ垢　販売多田李衣菜 SSR ＜ヒート＆ビート＞アマゾンギフト or We...</td>\n",
       "    </tr>\n",
       "  </tbody>\n",
       "</table>\n",
       "</div>"
      ],
      "text/plain": [
       "  Unnamed: 0         created_time  \\\n",
       "0          0  2018-05-09 05:23:54   \n",
       "1          1  2018-05-09 05:23:43   \n",
       "2          2  2018-05-09 05:23:43   \n",
       "3          3  2018-05-09 05:23:33   \n",
       "4          4  2018-05-09 05:23:23   \n",
       "\n",
       "                                          descripton favorite_count  \\\n",
       "0  ガンダム勢 TF SDガンダム 四条貴音 水瀬伊織 北上麗花 桜守歌織 鷺沢文香 高峯のあ ...              1   \n",
       "1                                 ディズニーランドに住みたい。成人済。              0   \n",
       "2  アニメ/ゲーム/ロボット/仮面ライダー/水樹奈々/雪村杏/ミリタリー/世界史/戦国/自動車/...              0   \n",
       "3      グッズ取引用アカウント。好きなキャラも交換譲渡に出すことがあります。本垢有り。成人済：大阪              0   \n",
       "4  「アイドルマスター シンデレラガールズ スターライトステージ」専門リセマラアカウント販売を行...              0   \n",
       "\n",
       "   retweet_count                                         tweet_text  \n",
       "0            2.0  前回の総選挙とまとめてみた1票でもいいので私の担当をよろしくお願いします#第七回シンデレラガ...  \n",
       "1            0.0  【アイドルマスター シンデレラガールズ　スターライトステージ】でシンデレラガール総選挙開催中...  \n",
       "2            0.0  【アイドルマスター シンデレラガールズ　スターライトステージ】でシンデレラガール総選挙開催中...  \n",
       "3            0.0  【譲渡】シンデレラ モバマス デレマス デレステ しんげき おまんじゅう （譲）★神崎蘭子1...  \n",
       "4            0.0  ◆デレステ リセマラ垢　販売多田李衣菜 SSR ＜ヒート＆ビート＞アマゾンギフト or We...  "
      ]
     },
     "execution_count": 65,
     "metadata": {},
     "output_type": "execute_result"
    }
   ],
   "source": [
    "df.head()"
   ]
  },
  {
   "cell_type": "code",
   "execution_count": 67,
   "metadata": {
    "collapsed": true
   },
   "outputs": [
    {
     "ename": "KeyError",
     "evalue": "'Unnamed: 0'",
     "output_type": "error",
     "traceback": [
      "\u001b[0;31m---------------------------------------------------------------------------\u001b[0m",
      "\u001b[0;31mKeyError\u001b[0m                                  Traceback (most recent call last)",
      "\u001b[0;32m~/anaconda/anaconda3/lib/python3.6/site-packages/pandas/core/indexes/base.py\u001b[0m in \u001b[0;36mget_loc\u001b[0;34m(self, key, method, tolerance)\u001b[0m\n\u001b[1;32m   2524\u001b[0m             \u001b[0;32mtry\u001b[0m\u001b[0;34m:\u001b[0m\u001b[0;34m\u001b[0m\u001b[0m\n\u001b[0;32m-> 2525\u001b[0;31m                 \u001b[0;32mreturn\u001b[0m \u001b[0mself\u001b[0m\u001b[0;34m.\u001b[0m\u001b[0m_engine\u001b[0m\u001b[0;34m.\u001b[0m\u001b[0mget_loc\u001b[0m\u001b[0;34m(\u001b[0m\u001b[0mkey\u001b[0m\u001b[0;34m)\u001b[0m\u001b[0;34m\u001b[0m\u001b[0m\n\u001b[0m\u001b[1;32m   2526\u001b[0m             \u001b[0;32mexcept\u001b[0m \u001b[0mKeyError\u001b[0m\u001b[0;34m:\u001b[0m\u001b[0;34m\u001b[0m\u001b[0m\n",
      "\u001b[0;32mpandas/_libs/index.pyx\u001b[0m in \u001b[0;36mpandas._libs.index.IndexEngine.get_loc\u001b[0;34m()\u001b[0m\n",
      "\u001b[0;32mpandas/_libs/index.pyx\u001b[0m in \u001b[0;36mpandas._libs.index.IndexEngine.get_loc\u001b[0;34m()\u001b[0m\n",
      "\u001b[0;32mpandas/_libs/hashtable_class_helper.pxi\u001b[0m in \u001b[0;36mpandas._libs.hashtable.PyObjectHashTable.get_item\u001b[0;34m()\u001b[0m\n",
      "\u001b[0;32mpandas/_libs/hashtable_class_helper.pxi\u001b[0m in \u001b[0;36mpandas._libs.hashtable.PyObjectHashTable.get_item\u001b[0;34m()\u001b[0m\n",
      "\u001b[0;31mKeyError\u001b[0m: 'Unnamed: 0'",
      "\nDuring handling of the above exception, another exception occurred:\n",
      "\u001b[0;31mKeyError\u001b[0m                                  Traceback (most recent call last)",
      "\u001b[0;32m<ipython-input-67-0b4b6f24bd28>\u001b[0m in \u001b[0;36m<module>\u001b[0;34m()\u001b[0m\n\u001b[0;32m----> 1\u001b[0;31m \u001b[0;32mdel\u001b[0m \u001b[0mdf\u001b[0m\u001b[0;34m[\u001b[0m\u001b[0;34m\"Unnamed: 0\"\u001b[0m\u001b[0;34m]\u001b[0m\u001b[0;34m\u001b[0m\u001b[0m\n\u001b[0m",
      "\u001b[0;32m~/anaconda/anaconda3/lib/python3.6/site-packages/pandas/core/generic.py\u001b[0m in \u001b[0;36m__delitem__\u001b[0;34m(self, key)\u001b[0m\n\u001b[1;32m   2094\u001b[0m             \u001b[0;31m# there was no match, this call should raise the appropriate\u001b[0m\u001b[0;34m\u001b[0m\u001b[0;34m\u001b[0m\u001b[0m\n\u001b[1;32m   2095\u001b[0m             \u001b[0;31m# exception:\u001b[0m\u001b[0;34m\u001b[0m\u001b[0;34m\u001b[0m\u001b[0m\n\u001b[0;32m-> 2096\u001b[0;31m             \u001b[0mself\u001b[0m\u001b[0;34m.\u001b[0m\u001b[0m_data\u001b[0m\u001b[0;34m.\u001b[0m\u001b[0mdelete\u001b[0m\u001b[0;34m(\u001b[0m\u001b[0mkey\u001b[0m\u001b[0;34m)\u001b[0m\u001b[0;34m\u001b[0m\u001b[0m\n\u001b[0m\u001b[1;32m   2097\u001b[0m \u001b[0;34m\u001b[0m\u001b[0m\n\u001b[1;32m   2098\u001b[0m         \u001b[0;31m# delete from the caches\u001b[0m\u001b[0;34m\u001b[0m\u001b[0;34m\u001b[0m\u001b[0m\n",
      "\u001b[0;32m~/anaconda/anaconda3/lib/python3.6/site-packages/pandas/core/internals.py\u001b[0m in \u001b[0;36mdelete\u001b[0;34m(self, item)\u001b[0m\n\u001b[1;32m   3900\u001b[0m         \u001b[0mDelete\u001b[0m \u001b[0mselected\u001b[0m \u001b[0mitem\u001b[0m \u001b[0;34m(\u001b[0m\u001b[0mitems\u001b[0m \u001b[0;32mif\u001b[0m \u001b[0mnon\u001b[0m\u001b[0;34m-\u001b[0m\u001b[0munique\u001b[0m\u001b[0;34m)\u001b[0m \u001b[0;32min\u001b[0m\u001b[0;34m-\u001b[0m\u001b[0mplace\u001b[0m\u001b[0;34m.\u001b[0m\u001b[0;34m\u001b[0m\u001b[0m\n\u001b[1;32m   3901\u001b[0m         \"\"\"\n\u001b[0;32m-> 3902\u001b[0;31m         \u001b[0mindexer\u001b[0m \u001b[0;34m=\u001b[0m \u001b[0mself\u001b[0m\u001b[0;34m.\u001b[0m\u001b[0mitems\u001b[0m\u001b[0;34m.\u001b[0m\u001b[0mget_loc\u001b[0m\u001b[0;34m(\u001b[0m\u001b[0mitem\u001b[0m\u001b[0;34m)\u001b[0m\u001b[0;34m\u001b[0m\u001b[0m\n\u001b[0m\u001b[1;32m   3903\u001b[0m \u001b[0;34m\u001b[0m\u001b[0m\n\u001b[1;32m   3904\u001b[0m         \u001b[0mis_deleted\u001b[0m \u001b[0;34m=\u001b[0m \u001b[0mnp\u001b[0m\u001b[0;34m.\u001b[0m\u001b[0mzeros\u001b[0m\u001b[0;34m(\u001b[0m\u001b[0mself\u001b[0m\u001b[0;34m.\u001b[0m\u001b[0mshape\u001b[0m\u001b[0;34m[\u001b[0m\u001b[0;36m0\u001b[0m\u001b[0;34m]\u001b[0m\u001b[0;34m,\u001b[0m \u001b[0mdtype\u001b[0m\u001b[0;34m=\u001b[0m\u001b[0mnp\u001b[0m\u001b[0;34m.\u001b[0m\u001b[0mbool_\u001b[0m\u001b[0;34m)\u001b[0m\u001b[0;34m\u001b[0m\u001b[0m\n",
      "\u001b[0;32m~/anaconda/anaconda3/lib/python3.6/site-packages/pandas/core/indexes/base.py\u001b[0m in \u001b[0;36mget_loc\u001b[0;34m(self, key, method, tolerance)\u001b[0m\n\u001b[1;32m   2525\u001b[0m                 \u001b[0;32mreturn\u001b[0m \u001b[0mself\u001b[0m\u001b[0;34m.\u001b[0m\u001b[0m_engine\u001b[0m\u001b[0;34m.\u001b[0m\u001b[0mget_loc\u001b[0m\u001b[0;34m(\u001b[0m\u001b[0mkey\u001b[0m\u001b[0;34m)\u001b[0m\u001b[0;34m\u001b[0m\u001b[0m\n\u001b[1;32m   2526\u001b[0m             \u001b[0;32mexcept\u001b[0m \u001b[0mKeyError\u001b[0m\u001b[0;34m:\u001b[0m\u001b[0;34m\u001b[0m\u001b[0m\n\u001b[0;32m-> 2527\u001b[0;31m                 \u001b[0;32mreturn\u001b[0m \u001b[0mself\u001b[0m\u001b[0;34m.\u001b[0m\u001b[0m_engine\u001b[0m\u001b[0;34m.\u001b[0m\u001b[0mget_loc\u001b[0m\u001b[0;34m(\u001b[0m\u001b[0mself\u001b[0m\u001b[0;34m.\u001b[0m\u001b[0m_maybe_cast_indexer\u001b[0m\u001b[0;34m(\u001b[0m\u001b[0mkey\u001b[0m\u001b[0;34m)\u001b[0m\u001b[0;34m)\u001b[0m\u001b[0;34m\u001b[0m\u001b[0m\n\u001b[0m\u001b[1;32m   2528\u001b[0m \u001b[0;34m\u001b[0m\u001b[0m\n\u001b[1;32m   2529\u001b[0m         \u001b[0mindexer\u001b[0m \u001b[0;34m=\u001b[0m \u001b[0mself\u001b[0m\u001b[0;34m.\u001b[0m\u001b[0mget_indexer\u001b[0m\u001b[0;34m(\u001b[0m\u001b[0;34m[\u001b[0m\u001b[0mkey\u001b[0m\u001b[0;34m]\u001b[0m\u001b[0;34m,\u001b[0m \u001b[0mmethod\u001b[0m\u001b[0;34m=\u001b[0m\u001b[0mmethod\u001b[0m\u001b[0;34m,\u001b[0m \u001b[0mtolerance\u001b[0m\u001b[0;34m=\u001b[0m\u001b[0mtolerance\u001b[0m\u001b[0;34m)\u001b[0m\u001b[0;34m\u001b[0m\u001b[0m\n",
      "\u001b[0;32mpandas/_libs/index.pyx\u001b[0m in \u001b[0;36mpandas._libs.index.IndexEngine.get_loc\u001b[0;34m()\u001b[0m\n",
      "\u001b[0;32mpandas/_libs/index.pyx\u001b[0m in \u001b[0;36mpandas._libs.index.IndexEngine.get_loc\u001b[0;34m()\u001b[0m\n",
      "\u001b[0;32mpandas/_libs/hashtable_class_helper.pxi\u001b[0m in \u001b[0;36mpandas._libs.hashtable.PyObjectHashTable.get_item\u001b[0;34m()\u001b[0m\n",
      "\u001b[0;32mpandas/_libs/hashtable_class_helper.pxi\u001b[0m in \u001b[0;36mpandas._libs.hashtable.PyObjectHashTable.get_item\u001b[0;34m()\u001b[0m\n",
      "\u001b[0;31mKeyError\u001b[0m: 'Unnamed: 0'"
     ]
    }
   ],
   "source": [
    "del df[\"Unnamed: 0\"]"
   ]
  },
  {
   "cell_type": "code",
   "execution_count": 69,
   "metadata": {},
   "outputs": [
    {
     "data": {
      "text/html": [
       "<div>\n",
       "<style scoped>\n",
       "    .dataframe tbody tr th:only-of-type {\n",
       "        vertical-align: middle;\n",
       "    }\n",
       "\n",
       "    .dataframe tbody tr th {\n",
       "        vertical-align: top;\n",
       "    }\n",
       "\n",
       "    .dataframe thead th {\n",
       "        text-align: right;\n",
       "    }\n",
       "</style>\n",
       "<table border=\"1\" class=\"dataframe\">\n",
       "  <thead>\n",
       "    <tr style=\"text-align: right;\">\n",
       "      <th></th>\n",
       "      <th>created_time</th>\n",
       "      <th>descripton</th>\n",
       "      <th>favorite_count</th>\n",
       "      <th>retweet_count</th>\n",
       "      <th>tweet_text</th>\n",
       "    </tr>\n",
       "  </thead>\n",
       "  <tbody>\n",
       "    <tr>\n",
       "      <th>0</th>\n",
       "      <td>2018-05-09 05:23:54</td>\n",
       "      <td>ガンダム勢 TF SDガンダム 四条貴音 水瀬伊織 北上麗花 桜守歌織 鷺沢文香 高峯のあ ...</td>\n",
       "      <td>1</td>\n",
       "      <td>2.0</td>\n",
       "      <td>前回の総選挙とまとめてみた1票でもいいので私の担当をよろしくお願いします#第七回シンデレラガ...</td>\n",
       "    </tr>\n",
       "    <tr>\n",
       "      <th>1</th>\n",
       "      <td>2018-05-09 05:23:43</td>\n",
       "      <td>ディズニーランドに住みたい。成人済。</td>\n",
       "      <td>0</td>\n",
       "      <td>0.0</td>\n",
       "      <td>【アイドルマスター シンデレラガールズ　スターライトステージ】でシンデレラガール総選挙開催中...</td>\n",
       "    </tr>\n",
       "    <tr>\n",
       "      <th>2</th>\n",
       "      <td>2018-05-09 05:23:43</td>\n",
       "      <td>アニメ/ゲーム/ロボット/仮面ライダー/水樹奈々/雪村杏/ミリタリー/世界史/戦国/自動車/...</td>\n",
       "      <td>0</td>\n",
       "      <td>0.0</td>\n",
       "      <td>【アイドルマスター シンデレラガールズ　スターライトステージ】でシンデレラガール総選挙開催中...</td>\n",
       "    </tr>\n",
       "    <tr>\n",
       "      <th>3</th>\n",
       "      <td>2018-05-09 05:23:33</td>\n",
       "      <td>グッズ取引用アカウント。好きなキャラも交換譲渡に出すことがあります。本垢有り。成人済：大阪</td>\n",
       "      <td>0</td>\n",
       "      <td>0.0</td>\n",
       "      <td>【譲渡】シンデレラ モバマス デレマス デレステ しんげき おまんじゅう （譲）★神崎蘭子1...</td>\n",
       "    </tr>\n",
       "    <tr>\n",
       "      <th>4</th>\n",
       "      <td>2018-05-09 05:23:23</td>\n",
       "      <td>「アイドルマスター シンデレラガールズ スターライトステージ」専門リセマラアカウント販売を行...</td>\n",
       "      <td>0</td>\n",
       "      <td>0.0</td>\n",
       "      <td>◆デレステ リセマラ垢　販売多田李衣菜 SSR ＜ヒート＆ビート＞アマゾンギフト or We...</td>\n",
       "    </tr>\n",
       "  </tbody>\n",
       "</table>\n",
       "</div>"
      ],
      "text/plain": [
       "          created_time                                         descripton  \\\n",
       "0  2018-05-09 05:23:54  ガンダム勢 TF SDガンダム 四条貴音 水瀬伊織 北上麗花 桜守歌織 鷺沢文香 高峯のあ ...   \n",
       "1  2018-05-09 05:23:43                                 ディズニーランドに住みたい。成人済。   \n",
       "2  2018-05-09 05:23:43  アニメ/ゲーム/ロボット/仮面ライダー/水樹奈々/雪村杏/ミリタリー/世界史/戦国/自動車/...   \n",
       "3  2018-05-09 05:23:33      グッズ取引用アカウント。好きなキャラも交換譲渡に出すことがあります。本垢有り。成人済：大阪   \n",
       "4  2018-05-09 05:23:23  「アイドルマスター シンデレラガールズ スターライトステージ」専門リセマラアカウント販売を行...   \n",
       "\n",
       "  favorite_count  retweet_count  \\\n",
       "0              1            2.0   \n",
       "1              0            0.0   \n",
       "2              0            0.0   \n",
       "3              0            0.0   \n",
       "4              0            0.0   \n",
       "\n",
       "                                          tweet_text  \n",
       "0  前回の総選挙とまとめてみた1票でもいいので私の担当をよろしくお願いします#第七回シンデレラガ...  \n",
       "1  【アイドルマスター シンデレラガールズ　スターライトステージ】でシンデレラガール総選挙開催中...  \n",
       "2  【アイドルマスター シンデレラガールズ　スターライトステージ】でシンデレラガール総選挙開催中...  \n",
       "3  【譲渡】シンデレラ モバマス デレマス デレステ しんげき おまんじゅう （譲）★神崎蘭子1...  \n",
       "4  ◆デレステ リセマラ垢　販売多田李衣菜 SSR ＜ヒート＆ビート＞アマゾンギフト or We...  "
      ]
     },
     "execution_count": 69,
     "metadata": {},
     "output_type": "execute_result"
    }
   ],
   "source": [
    "df.head()"
   ]
  },
  {
   "cell_type": "code",
   "execution_count": 84,
   "metadata": {},
   "outputs": [],
   "source": [
    "# 自己紹介文はない場合もあるので、ない場合を除外する\n",
    "df = df.dropna()"
   ]
  },
  {
   "cell_type": "code",
   "execution_count": 86,
   "metadata": {},
   "outputs": [],
   "source": [
    "description_mecab = []\n",
    "tweet_text_mecab = []\n",
    "\n",
    "for i, row in df.iterrows():\n",
    "    description_mecab.append(sentence_to_mecab_parse_data(row[\"descripton\"]))\n",
    "    tweet_text_mecab.append(sentence_to_mecab_parse_data(row[\"tweet_text\"]))"
   ]
  },
  {
   "cell_type": "code",
   "execution_count": 87,
   "metadata": {},
   "outputs": [
    {
     "name": "stderr",
     "output_type": "stream",
     "text": [
      "/Users/rin.kikuchi/anaconda/anaconda3/lib/python3.6/site-packages/ipykernel_launcher.py:1: SettingWithCopyWarning: \n",
      "A value is trying to be set on a copy of a slice from a DataFrame.\n",
      "Try using .loc[row_indexer,col_indexer] = value instead\n",
      "\n",
      "See the caveats in the documentation: http://pandas.pydata.org/pandas-docs/stable/indexing.html#indexing-view-versus-copy\n",
      "  \"\"\"Entry point for launching an IPython kernel.\n",
      "/Users/rin.kikuchi/anaconda/anaconda3/lib/python3.6/site-packages/ipykernel_launcher.py:2: SettingWithCopyWarning: \n",
      "A value is trying to be set on a copy of a slice from a DataFrame.\n",
      "Try using .loc[row_indexer,col_indexer] = value instead\n",
      "\n",
      "See the caveats in the documentation: http://pandas.pydata.org/pandas-docs/stable/indexing.html#indexing-view-versus-copy\n",
      "  \n"
     ]
    }
   ],
   "source": [
    "df[\"description_mecab\"] = description_mecab\n",
    "df[\"tweet_text_mecab\"] = tweet_text_mecab"
   ]
  },
  {
   "cell_type": "code",
   "execution_count": 89,
   "metadata": {},
   "outputs": [
    {
     "data": {
      "text/html": [
       "<div>\n",
       "<style scoped>\n",
       "    .dataframe tbody tr th:only-of-type {\n",
       "        vertical-align: middle;\n",
       "    }\n",
       "\n",
       "    .dataframe tbody tr th {\n",
       "        vertical-align: top;\n",
       "    }\n",
       "\n",
       "    .dataframe thead th {\n",
       "        text-align: right;\n",
       "    }\n",
       "</style>\n",
       "<table border=\"1\" class=\"dataframe\">\n",
       "  <thead>\n",
       "    <tr style=\"text-align: right;\">\n",
       "      <th></th>\n",
       "      <th>created_time</th>\n",
       "      <th>descripton</th>\n",
       "      <th>favorite_count</th>\n",
       "      <th>retweet_count</th>\n",
       "      <th>tweet_text</th>\n",
       "      <th>description_mecab</th>\n",
       "      <th>tweet_text_mecab</th>\n",
       "    </tr>\n",
       "  </thead>\n",
       "  <tbody>\n",
       "    <tr>\n",
       "      <th>0</th>\n",
       "      <td>2018-05-09 05:23:54</td>\n",
       "      <td>ガンダム勢 TF SDガンダム 四条貴音 水瀬伊織 北上麗花 桜守歌織 鷺沢文香 高峯のあ ...</td>\n",
       "      <td>1</td>\n",
       "      <td>2.0</td>\n",
       "      <td>前回の総選挙とまとめてみた1票でもいいので私の担当をよろしくお願いします#第七回シンデレラガ...</td>\n",
       "      <td>[(, BOS/EOS,*,*,*,*,*,*,*,*), (ガンダム, 名詞,固有名詞,一...</td>\n",
       "      <td>[(, BOS/EOS,*,*,*,*,*,*,*,*), (前回, 名詞,一般,*,*,*...</td>\n",
       "    </tr>\n",
       "    <tr>\n",
       "      <th>1</th>\n",
       "      <td>2018-05-09 05:23:43</td>\n",
       "      <td>ディズニーランドに住みたい。成人済。</td>\n",
       "      <td>0</td>\n",
       "      <td>0.0</td>\n",
       "      <td>【アイドルマスター シンデレラガールズ　スターライトステージ】でシンデレラガール総選挙開催中...</td>\n",
       "      <td>[(, BOS/EOS,*,*,*,*,*,*,*,*), (ディズニーランド, 名詞,固有...</td>\n",
       "      <td>[(, BOS/EOS,*,*,*,*,*,*,*,*), (【, 記号,括弧開,*,*,*...</td>\n",
       "    </tr>\n",
       "    <tr>\n",
       "      <th>2</th>\n",
       "      <td>2018-05-09 05:23:43</td>\n",
       "      <td>アニメ/ゲーム/ロボット/仮面ライダー/水樹奈々/雪村杏/ミリタリー/世界史/戦国/自動車/...</td>\n",
       "      <td>0</td>\n",
       "      <td>0.0</td>\n",
       "      <td>【アイドルマスター シンデレラガールズ　スターライトステージ】でシンデレラガール総選挙開催中...</td>\n",
       "      <td>[(, BOS/EOS,*,*,*,*,*,*,*,*), (アニメ, 名詞,一般,*,*,...</td>\n",
       "      <td>[(, BOS/EOS,*,*,*,*,*,*,*,*), (【, 記号,括弧開,*,*,*...</td>\n",
       "    </tr>\n",
       "    <tr>\n",
       "      <th>3</th>\n",
       "      <td>2018-05-09 05:23:33</td>\n",
       "      <td>グッズ取引用アカウント。好きなキャラも交換譲渡に出すことがあります。本垢有り。成人済：大阪</td>\n",
       "      <td>0</td>\n",
       "      <td>0.0</td>\n",
       "      <td>【譲渡】シンデレラ モバマス デレマス デレステ しんげき おまんじゅう （譲）★神崎蘭子1...</td>\n",
       "      <td>[(, BOS/EOS,*,*,*,*,*,*,*,*), (グッズ, 名詞,一般,*,*,...</td>\n",
       "      <td>[(, BOS/EOS,*,*,*,*,*,*,*,*), (【, 記号,括弧開,*,*,*...</td>\n",
       "    </tr>\n",
       "    <tr>\n",
       "      <th>4</th>\n",
       "      <td>2018-05-09 05:23:23</td>\n",
       "      <td>「アイドルマスター シンデレラガールズ スターライトステージ」専門リセマラアカウント販売を行...</td>\n",
       "      <td>0</td>\n",
       "      <td>0.0</td>\n",
       "      <td>◆デレステ リセマラ垢　販売多田李衣菜 SSR ＜ヒート＆ビート＞アマゾンギフト or We...</td>\n",
       "      <td>[(, BOS/EOS,*,*,*,*,*,*,*,*), (「, 記号,括弧開,*,*,*...</td>\n",
       "      <td>[(, BOS/EOS,*,*,*,*,*,*,*,*), (◆, 記号,一般,*,*,*,...</td>\n",
       "    </tr>\n",
       "  </tbody>\n",
       "</table>\n",
       "</div>"
      ],
      "text/plain": [
       "          created_time                                         descripton  \\\n",
       "0  2018-05-09 05:23:54  ガンダム勢 TF SDガンダム 四条貴音 水瀬伊織 北上麗花 桜守歌織 鷺沢文香 高峯のあ ...   \n",
       "1  2018-05-09 05:23:43                                 ディズニーランドに住みたい。成人済。   \n",
       "2  2018-05-09 05:23:43  アニメ/ゲーム/ロボット/仮面ライダー/水樹奈々/雪村杏/ミリタリー/世界史/戦国/自動車/...   \n",
       "3  2018-05-09 05:23:33      グッズ取引用アカウント。好きなキャラも交換譲渡に出すことがあります。本垢有り。成人済：大阪   \n",
       "4  2018-05-09 05:23:23  「アイドルマスター シンデレラガールズ スターライトステージ」専門リセマラアカウント販売を行...   \n",
       "\n",
       "  favorite_count  retweet_count  \\\n",
       "0              1            2.0   \n",
       "1              0            0.0   \n",
       "2              0            0.0   \n",
       "3              0            0.0   \n",
       "4              0            0.0   \n",
       "\n",
       "                                          tweet_text  \\\n",
       "0  前回の総選挙とまとめてみた1票でもいいので私の担当をよろしくお願いします#第七回シンデレラガ...   \n",
       "1  【アイドルマスター シンデレラガールズ　スターライトステージ】でシンデレラガール総選挙開催中...   \n",
       "2  【アイドルマスター シンデレラガールズ　スターライトステージ】でシンデレラガール総選挙開催中...   \n",
       "3  【譲渡】シンデレラ モバマス デレマス デレステ しんげき おまんじゅう （譲）★神崎蘭子1...   \n",
       "4  ◆デレステ リセマラ垢　販売多田李衣菜 SSR ＜ヒート＆ビート＞アマゾンギフト or We...   \n",
       "\n",
       "                                   description_mecab  \\\n",
       "0  [(, BOS/EOS,*,*,*,*,*,*,*,*), (ガンダム, 名詞,固有名詞,一...   \n",
       "1  [(, BOS/EOS,*,*,*,*,*,*,*,*), (ディズニーランド, 名詞,固有...   \n",
       "2  [(, BOS/EOS,*,*,*,*,*,*,*,*), (アニメ, 名詞,一般,*,*,...   \n",
       "3  [(, BOS/EOS,*,*,*,*,*,*,*,*), (グッズ, 名詞,一般,*,*,...   \n",
       "4  [(, BOS/EOS,*,*,*,*,*,*,*,*), (「, 記号,括弧開,*,*,*...   \n",
       "\n",
       "                                    tweet_text_mecab  \n",
       "0  [(, BOS/EOS,*,*,*,*,*,*,*,*), (前回, 名詞,一般,*,*,*...  \n",
       "1  [(, BOS/EOS,*,*,*,*,*,*,*,*), (【, 記号,括弧開,*,*,*...  \n",
       "2  [(, BOS/EOS,*,*,*,*,*,*,*,*), (【, 記号,括弧開,*,*,*...  \n",
       "3  [(, BOS/EOS,*,*,*,*,*,*,*,*), (【, 記号,括弧開,*,*,*...  \n",
       "4  [(, BOS/EOS,*,*,*,*,*,*,*,*), (◆, 記号,一般,*,*,*,...  "
      ]
     },
     "execution_count": 89,
     "metadata": {},
     "output_type": "execute_result"
    }
   ],
   "source": [
    "df.head()"
   ]
  },
  {
   "cell_type": "code",
   "execution_count": 91,
   "metadata": {},
   "outputs": [],
   "source": [
    "df.to_csv(\"output/deresute_mecab.tsv\", sep=\"\\t\", index=None)"
   ]
  },
  {
   "cell_type": "code",
   "execution_count": 94,
   "metadata": {},
   "outputs": [
    {
     "name": "stdout",
     "output_type": "stream",
     "text": [
      "total 103576\r\n",
      "drwxr-xr-x  5 rin.kikuchi  staff   170B  5 11 15:27 \u001b[34m.\u001b[m\u001b[m/\r\n",
      "drwxr-xr-x  8 rin.kikuchi  staff   272B  5 11 15:57 \u001b[34m..\u001b[m\u001b[m/\r\n",
      "drwxr-xr-x  2 rin.kikuchi  staff    68B  5 11 12:45 \u001b[34m.ipynb_checkpoints\u001b[m\u001b[m/\r\n",
      "-rw-r--r--  1 rin.kikuchi  staff   4.1M  5 11 12:57 deresute.tsv\r\n",
      "-rw-r--r--  1 rin.kikuchi  staff    46M  5 11 15:55 deresute_mecab.tsv\r\n"
     ]
    }
   ],
   "source": [
    "ls -lha output/"
   ]
  },
  {
   "cell_type": "code",
   "execution_count": null,
   "metadata": {},
   "outputs": [],
   "source": []
  }
 ],
 "metadata": {
  "kernelspec": {
   "display_name": "Python 3",
   "language": "python",
   "name": "python3"
  },
  "language_info": {
   "codemirror_mode": {
    "name": "ipython",
    "version": 3
   },
   "file_extension": ".py",
   "mimetype": "text/x-python",
   "name": "python",
   "nbconvert_exporter": "python",
   "pygments_lexer": "ipython3",
   "version": "3.6.4"
  }
 },
 "nbformat": 4,
 "nbformat_minor": 2
}
