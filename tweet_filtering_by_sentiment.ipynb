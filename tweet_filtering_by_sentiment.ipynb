{
 "cells": [
  {
   "cell_type": "markdown",
   "metadata": {},
   "source": [
    "### 形態素解析した結果と極性辞書を元に、感情の強いツイートのみを出力"
   ]
  },
  {
   "cell_type": "code",
   "execution_count": 1,
   "metadata": {},
   "outputs": [],
   "source": [
    "import pandas"
   ]
  },
  {
   "cell_type": "code",
   "execution_count": 2,
   "metadata": {},
   "outputs": [],
   "source": [
    "df = pandas.read_csv(\"output/deresute_mecab.tsv\", sep=\"\\t\", engine=\"python\")"
   ]
  },
  {
   "cell_type": "code",
   "execution_count": 3,
   "metadata": {},
   "outputs": [
    {
     "data": {
      "text/html": [
       "<div>\n",
       "<style scoped>\n",
       "    .dataframe tbody tr th:only-of-type {\n",
       "        vertical-align: middle;\n",
       "    }\n",
       "\n",
       "    .dataframe tbody tr th {\n",
       "        vertical-align: top;\n",
       "    }\n",
       "\n",
       "    .dataframe thead th {\n",
       "        text-align: right;\n",
       "    }\n",
       "</style>\n",
       "<table border=\"1\" class=\"dataframe\">\n",
       "  <thead>\n",
       "    <tr style=\"text-align: right;\">\n",
       "      <th></th>\n",
       "      <th>created_time</th>\n",
       "      <th>descripton</th>\n",
       "      <th>favorite_count</th>\n",
       "      <th>retweet_count</th>\n",
       "      <th>tweet_text</th>\n",
       "      <th>description_mecab</th>\n",
       "      <th>tweet_text_mecab</th>\n",
       "    </tr>\n",
       "  </thead>\n",
       "  <tbody>\n",
       "    <tr>\n",
       "      <th>0</th>\n",
       "      <td>2018-05-09 05:23:54</td>\n",
       "      <td>ガンダム勢 TF SDガンダム 四条貴音 水瀬伊織 北上麗花 桜守歌織 鷺沢文香 高峯のあ ...</td>\n",
       "      <td>1</td>\n",
       "      <td>2.0</td>\n",
       "      <td>前回の総選挙とまとめてみた1票でもいいので私の担当をよろしくお願いします#第七回シンデレラガ...</td>\n",
       "      <td>[('', 'BOS/EOS,*,*,*,*,*,*,*,*'), ('ガンダム', '名詞...</td>\n",
       "      <td>[('', 'BOS/EOS,*,*,*,*,*,*,*,*'), ('前回', '名詞,一...</td>\n",
       "    </tr>\n",
       "    <tr>\n",
       "      <th>1</th>\n",
       "      <td>2018-05-09 05:23:43</td>\n",
       "      <td>ディズニーランドに住みたい。成人済。</td>\n",
       "      <td>0</td>\n",
       "      <td>0.0</td>\n",
       "      <td>【アイドルマスター シンデレラガールズ　スターライトステージ】でシンデレラガール総選挙開催中...</td>\n",
       "      <td>[('', 'BOS/EOS,*,*,*,*,*,*,*,*'), ('ディズニーランド',...</td>\n",
       "      <td>[('', 'BOS/EOS,*,*,*,*,*,*,*,*'), ('【', '記号,括弧...</td>\n",
       "    </tr>\n",
       "    <tr>\n",
       "      <th>2</th>\n",
       "      <td>2018-05-09 05:23:43</td>\n",
       "      <td>アニメ/ゲーム/ロボット/仮面ライダー/水樹奈々/雪村杏/ミリタリー/世界史/戦国/自動車/...</td>\n",
       "      <td>0</td>\n",
       "      <td>0.0</td>\n",
       "      <td>【アイドルマスター シンデレラガールズ　スターライトステージ】でシンデレラガール総選挙開催中...</td>\n",
       "      <td>[('', 'BOS/EOS,*,*,*,*,*,*,*,*'), ('アニメ', '名詞,...</td>\n",
       "      <td>[('', 'BOS/EOS,*,*,*,*,*,*,*,*'), ('【', '記号,括弧...</td>\n",
       "    </tr>\n",
       "    <tr>\n",
       "      <th>3</th>\n",
       "      <td>2018-05-09 05:23:33</td>\n",
       "      <td>グッズ取引用アカウント。好きなキャラも交換譲渡に出すことがあります。本垢有り。成人済：大阪</td>\n",
       "      <td>0</td>\n",
       "      <td>0.0</td>\n",
       "      <td>【譲渡】シンデレラ モバマス デレマス デレステ しんげき おまんじゅう （譲）★神崎蘭子1...</td>\n",
       "      <td>[('', 'BOS/EOS,*,*,*,*,*,*,*,*'), ('グッズ', '名詞,...</td>\n",
       "      <td>[('', 'BOS/EOS,*,*,*,*,*,*,*,*'), ('【', '記号,括弧...</td>\n",
       "    </tr>\n",
       "    <tr>\n",
       "      <th>4</th>\n",
       "      <td>2018-05-09 05:23:23</td>\n",
       "      <td>「アイドルマスター シンデレラガールズ スターライトステージ」専門リセマラアカウント販売を行...</td>\n",
       "      <td>0</td>\n",
       "      <td>0.0</td>\n",
       "      <td>◆デレステ リセマラ垢　販売多田李衣菜 SSR ＜ヒート＆ビート＞アマゾンギフト or We...</td>\n",
       "      <td>[('', 'BOS/EOS,*,*,*,*,*,*,*,*'), ('「', '記号,括弧...</td>\n",
       "      <td>[('', 'BOS/EOS,*,*,*,*,*,*,*,*'), ('◆', '記号,一般...</td>\n",
       "    </tr>\n",
       "  </tbody>\n",
       "</table>\n",
       "</div>"
      ],
      "text/plain": [
       "          created_time                                         descripton  \\\n",
       "0  2018-05-09 05:23:54  ガンダム勢 TF SDガンダム 四条貴音 水瀬伊織 北上麗花 桜守歌織 鷺沢文香 高峯のあ ...   \n",
       "1  2018-05-09 05:23:43                                 ディズニーランドに住みたい。成人済。   \n",
       "2  2018-05-09 05:23:43  アニメ/ゲーム/ロボット/仮面ライダー/水樹奈々/雪村杏/ミリタリー/世界史/戦国/自動車/...   \n",
       "3  2018-05-09 05:23:33      グッズ取引用アカウント。好きなキャラも交換譲渡に出すことがあります。本垢有り。成人済：大阪   \n",
       "4  2018-05-09 05:23:23  「アイドルマスター シンデレラガールズ スターライトステージ」専門リセマラアカウント販売を行...   \n",
       "\n",
       "   favorite_count  retweet_count  \\\n",
       "0               1            2.0   \n",
       "1               0            0.0   \n",
       "2               0            0.0   \n",
       "3               0            0.0   \n",
       "4               0            0.0   \n",
       "\n",
       "                                          tweet_text  \\\n",
       "0  前回の総選挙とまとめてみた1票でもいいので私の担当をよろしくお願いします#第七回シンデレラガ...   \n",
       "1  【アイドルマスター シンデレラガールズ　スターライトステージ】でシンデレラガール総選挙開催中...   \n",
       "2  【アイドルマスター シンデレラガールズ　スターライトステージ】でシンデレラガール総選挙開催中...   \n",
       "3  【譲渡】シンデレラ モバマス デレマス デレステ しんげき おまんじゅう （譲）★神崎蘭子1...   \n",
       "4  ◆デレステ リセマラ垢　販売多田李衣菜 SSR ＜ヒート＆ビート＞アマゾンギフト or We...   \n",
       "\n",
       "                                   description_mecab  \\\n",
       "0  [('', 'BOS/EOS,*,*,*,*,*,*,*,*'), ('ガンダム', '名詞...   \n",
       "1  [('', 'BOS/EOS,*,*,*,*,*,*,*,*'), ('ディズニーランド',...   \n",
       "2  [('', 'BOS/EOS,*,*,*,*,*,*,*,*'), ('アニメ', '名詞,...   \n",
       "3  [('', 'BOS/EOS,*,*,*,*,*,*,*,*'), ('グッズ', '名詞,...   \n",
       "4  [('', 'BOS/EOS,*,*,*,*,*,*,*,*'), ('「', '記号,括弧...   \n",
       "\n",
       "                                    tweet_text_mecab  \n",
       "0  [('', 'BOS/EOS,*,*,*,*,*,*,*,*'), ('前回', '名詞,一...  \n",
       "1  [('', 'BOS/EOS,*,*,*,*,*,*,*,*'), ('【', '記号,括弧...  \n",
       "2  [('', 'BOS/EOS,*,*,*,*,*,*,*,*'), ('【', '記号,括弧...  \n",
       "3  [('', 'BOS/EOS,*,*,*,*,*,*,*,*'), ('【', '記号,括弧...  \n",
       "4  [('', 'BOS/EOS,*,*,*,*,*,*,*,*'), ('◆', '記号,一般...  "
      ]
     },
     "execution_count": 3,
     "metadata": {},
     "output_type": "execute_result"
    }
   ],
   "source": [
    "df.head()"
   ]
  },
  {
   "cell_type": "markdown",
   "metadata": {},
   "source": [
    "### 極性辞書の読み込み、pickleへ保存\n",
    "今回はこれを使う\n",
    "http://www.lr.pi.titech.ac.jp/~takamura/pndic_ja.html\n",
    "\n",
    "\n",
    "以下、ページから引用\n",
    "\n",
    "\n",
    "```\n",
    "日本語および英語の単語とその感情極性の対応表を、 研究目的の利用に限り公開します。 感情極性とは、その語が一般的に良い印象を持つか（positive） 悪い印象を持つか（negative）を表した二値属性です。 例えば、「良い」、「美しい」などはpositiveな極性、 「悪い」、「汚い」などはnegativeな極性を持ちます。\n",
    "\n",
    "感情極性値は、語彙ネットワークを利用して自動的に計算されたものです。 もともと二値属性ですが、-1から+1の実数値を割り当てました。 -1に近いほどnegative、+1に近いほどpositiveと考えられます。 リソースとして、日本語は「岩波国語辞書（岩波書店）」を、 英語はWordNet-1.7.1を使わせていただきました。 \n",
    "```"
   ]
  },
  {
   "cell_type": "code",
   "execution_count": 4,
   "metadata": {},
   "outputs": [
    {
     "name": "stdout",
     "output_type": "stream",
     "text": [
      "pn.csv.m3.120408.trim  pn_ja.dic.txt.utf-8\r\n",
      "pn_ja.dic.txt          wago.121808.pn.txt\r\n"
     ]
    }
   ],
   "source": [
    "ls resources/"
   ]
  },
  {
   "cell_type": "code",
   "execution_count": 22,
   "metadata": {},
   "outputs": [],
   "source": [
    "sentiment_word_dic = {}\n",
    "\n",
    "file = open(\"resources/pn_ja.dic.txt.utf-8\", mode=\"r\", encoding=\"utf-8\")\n",
    "with file:\n",
    "    for l in file:\n",
    "        surface, yomi, pos, value = l.strip().split(\":\")\n",
    "        sentiment_word_dic[surface] = float(value)"
   ]
  },
  {
   "cell_type": "code",
   "execution_count": 24,
   "metadata": {},
   "outputs": [
    {
     "ename": "ModuleNotFoundError",
     "evalue": "No module named 'joblib'",
     "output_type": "error",
     "traceback": [
      "\u001b[0;31m---------------------------------------------------------------------------\u001b[0m",
      "\u001b[0;31mModuleNotFoundError\u001b[0m                       Traceback (most recent call last)",
      "\u001b[0;32m<ipython-input-24-67224347928f>\u001b[0m in \u001b[0;36m<module>\u001b[0;34m()\u001b[0m\n\u001b[0;32m----> 1\u001b[0;31m \u001b[0;32mimport\u001b[0m \u001b[0mjoblib\u001b[0m\u001b[0;34m\u001b[0m\u001b[0m\n\u001b[0m",
      "\u001b[0;31mModuleNotFoundError\u001b[0m: No module named 'joblib'"
     ]
    }
   ],
   "source": [
    "import joblib"
   ]
  },
  {
   "cell_type": "code",
   "execution_count": 25,
   "metadata": {},
   "outputs": [
    {
     "name": "stdout",
     "output_type": "stream",
     "text": [
      "Collecting joblib\n",
      "  Downloading https://files.pythonhosted.org/packages/4f/51/870b2ec270fc29c5d89f85353da420606a9cb39fba4747127e7c7d7eb25d/joblib-0.11-py2.py3-none-any.whl (176kB)\n",
      "\u001b[K    100% |████████████████████████████████| 184kB 1.7MB/s ta 0:00:01\n",
      "\u001b[?25hInstalling collected packages: joblib\n",
      "Successfully installed joblib-0.11\n",
      "\u001b[33mYou are using pip version 9.0.1, however version 10.0.1 is available.\n",
      "You should consider upgrading via the 'pip install --upgrade pip' command.\u001b[0m\n"
     ]
    }
   ],
   "source": [
    "!pip install joblib"
   ]
  },
  {
   "cell_type": "code",
   "execution_count": 26,
   "metadata": {},
   "outputs": [],
   "source": [
    "import joblib"
   ]
  },
  {
   "cell_type": "code",
   "execution_count": 27,
   "metadata": {},
   "outputs": [
    {
     "data": {
      "text/plain": [
       "['resources/sentiment_word_dic.dmp']"
      ]
     },
     "execution_count": 27,
     "metadata": {},
     "output_type": "execute_result"
    }
   ],
   "source": [
    "joblib.dump(sentiment_word_dic, \"resources/sentiment_word_dic.dmp\", compress=3)"
   ]
  },
  {
   "cell_type": "code",
   "execution_count": 28,
   "metadata": {},
   "outputs": [
    {
     "name": "stdout",
     "output_type": "stream",
     "text": [
      "pn.csv.m3.120408.trim   pn_ja.dic.txt.utf-8     wago.121808.pn.txt\r\n",
      "pn_ja.dic.txt           sentiment_word_dic.dmp\r\n"
     ]
    }
   ],
   "source": [
    "ls resources/"
   ]
  },
  {
   "cell_type": "markdown",
   "metadata": {},
   "source": [
    "### 実際に感情分析する\n",
    "しきい値は何回か設定してみる……、ほどほど残る感じで"
   ]
  },
  {
   "cell_type": "code",
   "execution_count": 29,
   "metadata": {},
   "outputs": [],
   "source": [
    "test_df = df.head()"
   ]
  },
  {
   "cell_type": "code",
   "execution_count": 30,
   "metadata": {},
   "outputs": [
    {
     "data": {
      "text/html": [
       "<div>\n",
       "<style scoped>\n",
       "    .dataframe tbody tr th:only-of-type {\n",
       "        vertical-align: middle;\n",
       "    }\n",
       "\n",
       "    .dataframe tbody tr th {\n",
       "        vertical-align: top;\n",
       "    }\n",
       "\n",
       "    .dataframe thead th {\n",
       "        text-align: right;\n",
       "    }\n",
       "</style>\n",
       "<table border=\"1\" class=\"dataframe\">\n",
       "  <thead>\n",
       "    <tr style=\"text-align: right;\">\n",
       "      <th></th>\n",
       "      <th>created_time</th>\n",
       "      <th>descripton</th>\n",
       "      <th>favorite_count</th>\n",
       "      <th>retweet_count</th>\n",
       "      <th>tweet_text</th>\n",
       "      <th>description_mecab</th>\n",
       "      <th>tweet_text_mecab</th>\n",
       "    </tr>\n",
       "  </thead>\n",
       "  <tbody>\n",
       "    <tr>\n",
       "      <th>0</th>\n",
       "      <td>2018-05-09 05:23:54</td>\n",
       "      <td>ガンダム勢 TF SDガンダム 四条貴音 水瀬伊織 北上麗花 桜守歌織 鷺沢文香 高峯のあ ...</td>\n",
       "      <td>1</td>\n",
       "      <td>2.0</td>\n",
       "      <td>前回の総選挙とまとめてみた1票でもいいので私の担当をよろしくお願いします#第七回シンデレラガ...</td>\n",
       "      <td>[('', 'BOS/EOS,*,*,*,*,*,*,*,*'), ('ガンダム', '名詞...</td>\n",
       "      <td>[('', 'BOS/EOS,*,*,*,*,*,*,*,*'), ('前回', '名詞,一...</td>\n",
       "    </tr>\n",
       "    <tr>\n",
       "      <th>1</th>\n",
       "      <td>2018-05-09 05:23:43</td>\n",
       "      <td>ディズニーランドに住みたい。成人済。</td>\n",
       "      <td>0</td>\n",
       "      <td>0.0</td>\n",
       "      <td>【アイドルマスター シンデレラガールズ　スターライトステージ】でシンデレラガール総選挙開催中...</td>\n",
       "      <td>[('', 'BOS/EOS,*,*,*,*,*,*,*,*'), ('ディズニーランド',...</td>\n",
       "      <td>[('', 'BOS/EOS,*,*,*,*,*,*,*,*'), ('【', '記号,括弧...</td>\n",
       "    </tr>\n",
       "    <tr>\n",
       "      <th>2</th>\n",
       "      <td>2018-05-09 05:23:43</td>\n",
       "      <td>アニメ/ゲーム/ロボット/仮面ライダー/水樹奈々/雪村杏/ミリタリー/世界史/戦国/自動車/...</td>\n",
       "      <td>0</td>\n",
       "      <td>0.0</td>\n",
       "      <td>【アイドルマスター シンデレラガールズ　スターライトステージ】でシンデレラガール総選挙開催中...</td>\n",
       "      <td>[('', 'BOS/EOS,*,*,*,*,*,*,*,*'), ('アニメ', '名詞,...</td>\n",
       "      <td>[('', 'BOS/EOS,*,*,*,*,*,*,*,*'), ('【', '記号,括弧...</td>\n",
       "    </tr>\n",
       "    <tr>\n",
       "      <th>3</th>\n",
       "      <td>2018-05-09 05:23:33</td>\n",
       "      <td>グッズ取引用アカウント。好きなキャラも交換譲渡に出すことがあります。本垢有り。成人済：大阪</td>\n",
       "      <td>0</td>\n",
       "      <td>0.0</td>\n",
       "      <td>【譲渡】シンデレラ モバマス デレマス デレステ しんげき おまんじゅう （譲）★神崎蘭子1...</td>\n",
       "      <td>[('', 'BOS/EOS,*,*,*,*,*,*,*,*'), ('グッズ', '名詞,...</td>\n",
       "      <td>[('', 'BOS/EOS,*,*,*,*,*,*,*,*'), ('【', '記号,括弧...</td>\n",
       "    </tr>\n",
       "    <tr>\n",
       "      <th>4</th>\n",
       "      <td>2018-05-09 05:23:23</td>\n",
       "      <td>「アイドルマスター シンデレラガールズ スターライトステージ」専門リセマラアカウント販売を行...</td>\n",
       "      <td>0</td>\n",
       "      <td>0.0</td>\n",
       "      <td>◆デレステ リセマラ垢　販売多田李衣菜 SSR ＜ヒート＆ビート＞アマゾンギフト or We...</td>\n",
       "      <td>[('', 'BOS/EOS,*,*,*,*,*,*,*,*'), ('「', '記号,括弧...</td>\n",
       "      <td>[('', 'BOS/EOS,*,*,*,*,*,*,*,*'), ('◆', '記号,一般...</td>\n",
       "    </tr>\n",
       "  </tbody>\n",
       "</table>\n",
       "</div>"
      ],
      "text/plain": [
       "          created_time                                         descripton  \\\n",
       "0  2018-05-09 05:23:54  ガンダム勢 TF SDガンダム 四条貴音 水瀬伊織 北上麗花 桜守歌織 鷺沢文香 高峯のあ ...   \n",
       "1  2018-05-09 05:23:43                                 ディズニーランドに住みたい。成人済。   \n",
       "2  2018-05-09 05:23:43  アニメ/ゲーム/ロボット/仮面ライダー/水樹奈々/雪村杏/ミリタリー/世界史/戦国/自動車/...   \n",
       "3  2018-05-09 05:23:33      グッズ取引用アカウント。好きなキャラも交換譲渡に出すことがあります。本垢有り。成人済：大阪   \n",
       "4  2018-05-09 05:23:23  「アイドルマスター シンデレラガールズ スターライトステージ」専門リセマラアカウント販売を行...   \n",
       "\n",
       "   favorite_count  retweet_count  \\\n",
       "0               1            2.0   \n",
       "1               0            0.0   \n",
       "2               0            0.0   \n",
       "3               0            0.0   \n",
       "4               0            0.0   \n",
       "\n",
       "                                          tweet_text  \\\n",
       "0  前回の総選挙とまとめてみた1票でもいいので私の担当をよろしくお願いします#第七回シンデレラガ...   \n",
       "1  【アイドルマスター シンデレラガールズ　スターライトステージ】でシンデレラガール総選挙開催中...   \n",
       "2  【アイドルマスター シンデレラガールズ　スターライトステージ】でシンデレラガール総選挙開催中...   \n",
       "3  【譲渡】シンデレラ モバマス デレマス デレステ しんげき おまんじゅう （譲）★神崎蘭子1...   \n",
       "4  ◆デレステ リセマラ垢　販売多田李衣菜 SSR ＜ヒート＆ビート＞アマゾンギフト or We...   \n",
       "\n",
       "                                   description_mecab  \\\n",
       "0  [('', 'BOS/EOS,*,*,*,*,*,*,*,*'), ('ガンダム', '名詞...   \n",
       "1  [('', 'BOS/EOS,*,*,*,*,*,*,*,*'), ('ディズニーランド',...   \n",
       "2  [('', 'BOS/EOS,*,*,*,*,*,*,*,*'), ('アニメ', '名詞,...   \n",
       "3  [('', 'BOS/EOS,*,*,*,*,*,*,*,*'), ('グッズ', '名詞,...   \n",
       "4  [('', 'BOS/EOS,*,*,*,*,*,*,*,*'), ('「', '記号,括弧...   \n",
       "\n",
       "                                    tweet_text_mecab  \n",
       "0  [('', 'BOS/EOS,*,*,*,*,*,*,*,*'), ('前回', '名詞,一...  \n",
       "1  [('', 'BOS/EOS,*,*,*,*,*,*,*,*'), ('【', '記号,括弧...  \n",
       "2  [('', 'BOS/EOS,*,*,*,*,*,*,*,*'), ('【', '記号,括弧...  \n",
       "3  [('', 'BOS/EOS,*,*,*,*,*,*,*,*'), ('【', '記号,括弧...  \n",
       "4  [('', 'BOS/EOS,*,*,*,*,*,*,*,*'), ('◆', '記号,一般...  "
      ]
     },
     "execution_count": 30,
     "metadata": {},
     "output_type": "execute_result"
    }
   ],
   "source": [
    "test_df"
   ]
  },
  {
   "cell_type": "code",
   "execution_count": 32,
   "metadata": {},
   "outputs": [
    {
     "data": {
      "text/plain": [
       "\"[('', 'BOS/EOS,*,*,*,*,*,*,*,*'), ('前回', '名詞,一般,*,*,*,*,前回,ゼンカイ,ゼンカイ'), ('の', '助詞,連体化,*,*,*,*,の,ノ,ノ'), ('総選挙', '名詞,固有名詞,一般,*,*,*,総選挙,ソウセンキョ,ソーセンキョ'), ('と', '助詞,格助詞,引用,*,*,*,と,ト,ト'), ('まとめ', '動詞,自立,*,*,一段,連用形,まとめる,マトメ,マトメ'), ('て', '助詞,接続助詞,*,*,*,*,て,テ,テ'), ('み', '動詞,非自立,*,*,一段,連用形,みる,ミ,ミ'), ('た', '助動詞,*,*,*,特殊・タ,基本形,た,タ,タ'), ('1票', '名詞,固有名詞,一般,*,*,*,1票,イッピョウ,イッピョー'), ('で', '助詞,格助詞,一般,*,*,*,で,デ,デ'), ('も', '助詞,係助詞,*,*,*,*,も,モ,モ'), ('いい', '形容詞,非自立,*,*,形容詞・イイ,基本形,いい,イイ,イイ'), ('ので', '助詞,接続助詞,*,*,*,*,ので,ノデ,ノデ'), ('私', '名詞,代名詞,一般,*,*,*,私,ワタシ,ワタシ'), ('の', '助詞,連体化,*,*,*,*,の,ノ,ノ'), ('担当', '名詞,サ変接続,*,*,*,*,担当,タントウ,タントー'), ('を', '助詞,格助詞,一般,*,*,*,を,ヲ,ヲ'), ('よろしくお願いします', '名詞,固有名詞,一般,*,*,*,よろしくお願いします,ヨロシクオネガイシマス,ヨロシクオネガイシマス'), ('#', '記号,一般,*,*,*,*,*'), ('第', '接頭詞,数接続,*,*,*,*,第,ダイ,ダイ'), ('七', '名詞,数,*,*,*,*,七,ナナ,ナナ'), ('回', '名詞,接尾,助数詞,*,*,*,回,カイ,カイ'), ('シンデレラガール', '名詞,固有名詞,一般,*,*,*,シンデレラガール,シンデレラガール,シンデレラガール'), ('総選挙', '名詞,固有名詞,一般,*,*,*,総選挙,ソウセンキョ,ソーセンキョ'), ('#', '記号,一般,*,*,*,*,*'), ('デレステ', '名詞,固有名詞,一般,*,*,*,デレステ,デレステ,デレステ'), ('#', '記号,一般,*,*,*,*,*'), ('デレマス', '名詞,固有名詞,一般,*,*,*,デレマス,デレマス,デレマス'), ('https', '名詞,固有名詞,一般,*,*,*,HTTPS,エイチティーティーピーエス,エイチティーティーピーエス'), ('://', '記号,一般,*,*,*,*,*'), ('t', '名詞,固有名詞,組織,*,*,*,*'), ('.', '記号,一般,*,*,*,*,*'), ('co', '名詞,固有名詞,組織,*,*,*,*'), ('/', '記号,一般,*,*,*,*,*'), ('7W', '名詞,固有名詞,一般,*,*,*,7W,ナナワット,ナナワット'), ('bNShmOIh', '名詞,固有名詞,組織,*,*,*,*'), ('', 'BOS/EOS,*,*,*,*,*,*,*,*')]\""
      ]
     },
     "execution_count": 32,
     "metadata": {},
     "output_type": "execute_result"
    }
   ],
   "source": [
    "test_df[\"tweet_text_mecab\"][0]"
   ]
  },
  {
   "cell_type": "code",
   "execution_count": 56,
   "metadata": {},
   "outputs": [],
   "source": [
    "from ast import literal_eval\n",
    "def get_sentence_sentiment_value(raw_mecab_structure):\n",
    "    mecab_morph_list = literal_eval(raw_mecab_structure)\n",
    "    value = 0.0\n",
    "    \n",
    "    for surface, raw_feature in mecab_morph_list:\n",
    "        dict_form = raw_feature.strip().split(\",\")[6]\n",
    "        if dict_form in sentiment_word_dic:\n",
    "            value += sentiment_word_dic[dict_form]\n",
    "    return value"
   ]
  },
  {
   "cell_type": "code",
   "execution_count": 57,
   "metadata": {
    "scrolled": false
   },
   "outputs": [
    {
     "data": {
      "text/plain": [
       "-2.843612"
      ]
     },
     "execution_count": 57,
     "metadata": {},
     "output_type": "execute_result"
    }
   ],
   "source": [
    "get_sentence_sentiment_value(test_df[\"tweet_text_mecab\"][0])"
   ]
  },
  {
   "cell_type": "code",
   "execution_count": 58,
   "metadata": {
    "scrolled": false
   },
   "outputs": [
    {
     "data": {
      "text/plain": [
       "-1.027382"
      ]
     },
     "execution_count": 58,
     "metadata": {},
     "output_type": "execute_result"
    }
   ],
   "source": [
    "get_sentence_sentiment_value(test_df[\"tweet_text_mecab\"][1])"
   ]
  },
  {
   "cell_type": "code",
   "execution_count": 59,
   "metadata": {
    "scrolled": true
   },
   "outputs": [
    {
     "data": {
      "text/plain": [
       "-1.027382"
      ]
     },
     "execution_count": 59,
     "metadata": {},
     "output_type": "execute_result"
    }
   ],
   "source": [
    "get_sentence_sentiment_value(test_df[\"tweet_text_mecab\"][2])"
   ]
  },
  {
   "cell_type": "code",
   "execution_count": 61,
   "metadata": {},
   "outputs": [],
   "source": [
    "tweet_text_sentiment_value = []\n",
    "\n",
    "for i, row in test_df.iterrows():\n",
    "    tweet_text_sentiment_value.append(get_sentence_sentiment_value(row[\"tweet_text_mecab\"]))"
   ]
  },
  {
   "cell_type": "code",
   "execution_count": 62,
   "metadata": {},
   "outputs": [
    {
     "data": {
      "text/plain": [
       "[-2.843612, -1.027382, -1.027382, -4.1923829999999995, -3.993946]"
      ]
     },
     "execution_count": 62,
     "metadata": {},
     "output_type": "execute_result"
    }
   ],
   "source": [
    "tweet_text_sentiment_value"
   ]
  },
  {
   "cell_type": "code",
   "execution_count": 63,
   "metadata": {},
   "outputs": [],
   "source": [
    "tweet_text_sentiment_value = []\n",
    "\n",
    "for i, row in df.iterrows():\n",
    "    tweet_text_sentiment_value.append(get_sentence_sentiment_value(row[\"tweet_text_mecab\"]))"
   ]
  },
  {
   "cell_type": "code",
   "execution_count": 65,
   "metadata": {},
   "outputs": [],
   "source": [
    "df = pandas.DataFrame(tweet_text_sentiment_value)"
   ]
  },
  {
   "cell_type": "code",
   "execution_count": 66,
   "metadata": {},
   "outputs": [
    {
     "data": {
      "text/html": [
       "<div>\n",
       "<style scoped>\n",
       "    .dataframe tbody tr th:only-of-type {\n",
       "        vertical-align: middle;\n",
       "    }\n",
       "\n",
       "    .dataframe tbody tr th {\n",
       "        vertical-align: top;\n",
       "    }\n",
       "\n",
       "    .dataframe thead th {\n",
       "        text-align: right;\n",
       "    }\n",
       "</style>\n",
       "<table border=\"1\" class=\"dataframe\">\n",
       "  <thead>\n",
       "    <tr style=\"text-align: right;\">\n",
       "      <th></th>\n",
       "      <th>0</th>\n",
       "    </tr>\n",
       "  </thead>\n",
       "  <tbody>\n",
       "    <tr>\n",
       "      <th>count</th>\n",
       "      <td>9506.000000</td>\n",
       "    </tr>\n",
       "    <tr>\n",
       "      <th>mean</th>\n",
       "      <td>-1.662748</td>\n",
       "    </tr>\n",
       "    <tr>\n",
       "      <th>std</th>\n",
       "      <td>1.780593</td>\n",
       "    </tr>\n",
       "    <tr>\n",
       "      <th>min</th>\n",
       "      <td>-16.610159</td>\n",
       "    </tr>\n",
       "    <tr>\n",
       "      <th>25%</th>\n",
       "      <td>-1.726483</td>\n",
       "    </tr>\n",
       "    <tr>\n",
       "      <th>50%</th>\n",
       "      <td>-1.027382</td>\n",
       "    </tr>\n",
       "    <tr>\n",
       "      <th>75%</th>\n",
       "      <td>-1.027382</td>\n",
       "    </tr>\n",
       "    <tr>\n",
       "      <th>max</th>\n",
       "      <td>2.680507</td>\n",
       "    </tr>\n",
       "  </tbody>\n",
       "</table>\n",
       "</div>"
      ],
      "text/plain": [
       "                 0\n",
       "count  9506.000000\n",
       "mean     -1.662748\n",
       "std       1.780593\n",
       "min     -16.610159\n",
       "25%      -1.726483\n",
       "50%      -1.027382\n",
       "75%      -1.027382\n",
       "max       2.680507"
      ]
     },
     "execution_count": 66,
     "metadata": {},
     "output_type": "execute_result"
    }
   ],
   "source": [
    "df.describe()"
   ]
  },
  {
   "cell_type": "code",
   "execution_count": 71,
   "metadata": {},
   "outputs": [
    {
     "data": {
      "text/plain": [
       "<matplotlib.axes._subplots.AxesSubplot at 0x113c7b438>"
      ]
     },
     "execution_count": 71,
     "metadata": {},
     "output_type": "execute_result"
    },
    {
     "data": {
      "image/png": "[encoded data removed]",
      "text/plain": [
       "<matplotlib.figure.Figure at 0x113c49d30>"
      ]
     },
     "metadata": {},
     "output_type": "display_data"
    }
   ],
   "source": [
    "df.plot(bins=40, kind=\"hist\")"
   ]
  },
  {
   "cell_type": "code",
   "execution_count": null,
   "metadata": {},
   "outputs": [],
   "source": []
  }
 ],
 "metadata": {
  "kernelspec": {
   "display_name": "Python 3",
   "language": "python",
   "name": "python3"
  },
  "language_info": {
   "codemirror_mode": {
    "name": "ipython",
    "version": 3
   },
   "file_extension": ".py",
   "mimetype": "text/x-python",
   "name": "python",
   "nbconvert_exporter": "python",
   "pygments_lexer": "ipython3",
   "version": "3.6.4"
  }
 },
 "nbformat": 4,
 "nbformat_minor": 2
}
