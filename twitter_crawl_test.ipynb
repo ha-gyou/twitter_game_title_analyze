{
 "cells": [
  {
   "cell_type": "code",
   "execution_count": 3,
   "metadata": {},
   "outputs": [
    {
     "name": "stdout",
     "output_type": "stream",
     "text": [
      "Collecting tqdm\n",
      "  Downloading https://files.pythonhosted.org/packages/d8/ca/6524dfba7a0e850d3fda223693779035ddc8bf5c242acd9ee4eb9e52711a/tqdm-4.23.3-py2.py3-none-any.whl (42kB)\n",
      "\u001b[K    100% |████████████████████████████████| 51kB 3.6MB/s ta 0:00:01\n",
      "\u001b[?25hInstalling collected packages: tqdm\n",
      "Successfully installed tqdm-4.23.3\n",
      "\u001b[33mYou are using pip version 9.0.1, however version 10.0.1 is available.\n",
      "You should consider upgrading via the 'pip install --upgrade pip' command.\u001b[0m\n"
     ]
    }
   ],
   "source": [
    "!pip install tqdm"
   ]
  },
  {
   "cell_type": "code",
   "execution_count": 4,
   "metadata": {
    "scrolled": true
   },
   "outputs": [
    {
     "name": "stdout",
     "output_type": "stream",
     "text": [
      "Requirement already satisfied: tweepy in /Users/rin.kikuchi/anaconda/anaconda3/lib/python3.6/site-packages\n",
      "Requirement already satisfied: PySocks>=1.5.7 in /Users/rin.kikuchi/anaconda/anaconda3/lib/python3.6/site-packages (from tweepy)\n",
      "Requirement already satisfied: requests>=2.11.1 in /Users/rin.kikuchi/anaconda/anaconda3/lib/python3.6/site-packages (from tweepy)\n",
      "Requirement already satisfied: requests-oauthlib>=0.7.0 in /Users/rin.kikuchi/anaconda/anaconda3/lib/python3.6/site-packages (from tweepy)\n",
      "Requirement already satisfied: six>=1.10.0 in /Users/rin.kikuchi/anaconda/anaconda3/lib/python3.6/site-packages (from tweepy)\n",
      "Requirement already satisfied: chardet<3.1.0,>=3.0.2 in /Users/rin.kikuchi/anaconda/anaconda3/lib/python3.6/site-packages (from requests>=2.11.1->tweepy)\n",
      "Requirement already satisfied: idna<2.7,>=2.5 in /Users/rin.kikuchi/anaconda/anaconda3/lib/python3.6/site-packages (from requests>=2.11.1->tweepy)\n",
      "Requirement already satisfied: urllib3<1.23,>=1.21.1 in /Users/rin.kikuchi/anaconda/anaconda3/lib/python3.6/site-packages (from requests>=2.11.1->tweepy)\n",
      "Requirement already satisfied: certifi>=2017.4.17 in /Users/rin.kikuchi/anaconda/anaconda3/lib/python3.6/site-packages (from requests>=2.11.1->tweepy)\n",
      "Requirement already satisfied: oauthlib>=0.6.2 in /Users/rin.kikuchi/anaconda/anaconda3/lib/python3.6/site-packages (from requests-oauthlib>=0.7.0->tweepy)\n",
      "\u001b[33mYou are using pip version 9.0.1, however version 10.0.1 is available.\n",
      "You should consider upgrading via the 'pip install --upgrade pip' command.\u001b[0m\n"
     ]
    }
   ],
   "source": [
    "!pip install tweepy"
   ]
  },
  {
   "cell_type": "code",
   "execution_count": 22,
   "metadata": {},
   "outputs": [],
   "source": [
    "from tqdm import tqdm_notebook\n",
    "import datetime\n",
    "import time\n",
    "import pandas"
   ]
  },
  {
   "cell_type": "code",
   "execution_count": 6,
   "metadata": {},
   "outputs": [],
   "source": [
    "consumer_token = \"JgwHl3hYJ9tisKctbXW8mopdE\"\n",
    "consumer_secret = \"R3SdnI4pEP2fF4IJhJlr9SJ8Ys2la5oeogD8586a7hLxsF6XMY\""
   ]
  },
  {
   "cell_type": "code",
   "execution_count": 7,
   "metadata": {},
   "outputs": [],
   "source": [
    "# 認証をする\n",
    "import tweepy\n",
    "auth = tweepy.OAuthHandler(consumer_key=consumer_token,  consumer_secret=consumer_secret)"
   ]
  },
  {
   "cell_type": "code",
   "execution_count": 8,
   "metadata": {},
   "outputs": [],
   "source": [
    "api = tweepy.API(auth)"
   ]
  },
  {
   "cell_type": "code",
   "execution_count": 42,
   "metadata": {},
   "outputs": [],
   "source": [
    "# 検索したいタイトルと出力先について記載、\n",
    "target_title_word = \"デレステ\" #todo:後から、複数クエリに対応できるようにする？\n",
    "output_file_path = \"output/purikone.tsv\"\n",
    "max_tweet = 10000"
   ]
  },
  {
   "cell_type": "code",
   "execution_count": 43,
   "metadata": {},
   "outputs": [],
   "source": [
    "max_id = -1\n",
    "count = 100 # Tweetの取得件数\n",
    "query = target_title_word + \" -filter:retweets\"  # RTを除外する内容を追記\n",
    "result_type = \"recent\"\n",
    "\n",
    "# dfに保存する内容\n",
    "columns=[\"descripton\", \"favorite_count\", \"retweet_count\", \"tweet_text\", \"created_time\"]"
   ]
  },
  {
   "cell_type": "code",
   "execution_count": 46,
   "metadata": {},
   "outputs": [
    {
     "name": "stdout",
     "output_type": "stream",
     "text": [
      "100tweets get.\n",
      "200tweets get.\n",
      "300tweets get.\n",
      "400tweets get.\n",
      "500tweets get.\n",
      "600tweets get.\n",
      "700tweets get.\n",
      "800tweets get.\n",
      "900tweets get.\n",
      "1000tweets get.\n",
      "1100tweets get.\n",
      "1200tweets get.\n",
      "1300tweets get.\n",
      "1400tweets get.\n",
      "1500tweets get.\n",
      "1600tweets get.\n",
      "1700tweets get.\n",
      "1800tweets get.\n",
      "1900tweets get.\n",
      "2000tweets get.\n",
      "2100tweets get.\n",
      "2200tweets get.\n",
      "2300tweets get.\n",
      "2400tweets get.\n",
      "2500tweets get.\n",
      "2600tweets get.\n",
      "2700tweets get.\n",
      "2800tweets get.\n",
      "2900tweets get.\n",
      "3000tweets get.\n",
      "3100tweets get.\n",
      "3200tweets get.\n",
      "3300tweets get.\n",
      "3400tweets get.\n",
      "3500tweets get.\n",
      "3600tweets get.\n",
      "3700tweets get.\n",
      "3800tweets get.\n",
      "3900tweets get.\n",
      "4000tweets get.\n",
      "4100tweets get.\n",
      "4200tweets get.\n",
      "4300tweets get.\n",
      "4400tweets get.\n",
      "4500tweets get.\n",
      "4600tweets get.\n",
      "4700tweets get.\n",
      "4800tweets get.\n",
      "4900tweets get.\n",
      "5000tweets get.\n",
      "5100tweets get.\n",
      "5200tweets get.\n",
      "5300tweets get.\n",
      "5400tweets get.\n",
      "5500tweets get.\n",
      "5600tweets get.\n",
      "5700tweets get.\n",
      "5800tweets get.\n",
      "5900tweets get.\n",
      "6000tweets get.\n",
      "6100tweets get.\n",
      "6200tweets get.\n",
      "6300tweets get.\n",
      "6400tweets get.\n",
      "6500tweets get.\n",
      "6600tweets get.\n",
      "6700tweets get.\n",
      "6800tweets get.\n",
      "6900tweets get.\n",
      "7000tweets get.\n",
      "7100tweets get.\n",
      "7200tweets get.\n",
      "7300tweets get.\n",
      "7400tweets get.\n",
      "7500tweets get.\n",
      "7600tweets get.\n",
      "7700tweets get.\n",
      "7800tweets get.\n",
      "7900tweets get.\n",
      "8000tweets get.\n",
      "8100tweets get.\n",
      "8200tweets get.\n",
      "8300tweets get.\n",
      "8400tweets get.\n",
      "8500tweets get.\n",
      "8600tweets get.\n",
      "8700tweets get.\n",
      "8800tweets get.\n",
      "8900tweets get.\n",
      "9000tweets get.\n",
      "9100tweets get.\n",
      "9200tweets get.\n",
      "9300tweets get.\n",
      "9400tweets get.\n",
      "9500tweets get.\n",
      "9600tweets get.\n",
      "9700tweets get.\n",
      "9800tweets get.\n",
      "9900tweets get.\n",
      "10000tweets get.\n",
      "Done!!\n",
      "10000 tweets df created!\n"
     ]
    }
   ],
   "source": [
    "num = 0 #取得したツイートのカウント用\n",
    "\n",
    "# 以下、DataFrame用\n",
    "descripton_list = []\n",
    "favorite_count_list = []\n",
    "retweet_count_list = []\n",
    "text_list = []\n",
    "created_time_list = []\n",
    "\n",
    "while True:\n",
    "    try:\n",
    "        if max_id <= 0:\n",
    "            new_tweets = api.search(q=query, count=count,\n",
    "                                    result_type=result_type)\n",
    "        else:\n",
    "            new_tweets = api.search(q=query, count=count,\n",
    "                                    max_id=str(max_id - 1),\n",
    "                                    result_type=result_type)\n",
    "        if not new_tweets:\n",
    "            break\n",
    "\n",
    "        max_id = new_tweets[-1].id\n",
    "\n",
    "        for tweet in new_tweets:\n",
    "            descripton_list.append(tweet._json[\"user\"][\"description\"].replace(\"\\n\", \"\"))\n",
    "            favorite_count_list.append(tweet._json[\"favorite_count\"])\n",
    "            retweet_count_list.append(tweet._json[\"retweet_count\"])\n",
    "            text_list.append(tweet._json[\"text\"].replace(\"\\n\", \"\"))\n",
    "            created_time_list.append(tweet.created_at)\n",
    "\n",
    "            num += 1\n",
    "            if num % 100 == 0:\n",
    "                print(str(num) + \"tweets get.\")         \n",
    "            if num >= max_tweet:\n",
    "                print(\"Done!!\")\n",
    "                break\n",
    "        else:\n",
    "            continue\n",
    "\n",
    "        # 生文を持ってくるので（カンマで区切るとバグる可能性が高いので）、TSVで保存する\n",
    "        raw_dic = {\n",
    "            \"descripton\": descripton_list,\n",
    "            \"favorite_count\": favorite_count_list,\n",
    "            \"retweet_count\": retweet_count_list,\n",
    "            \"tweet_text\": text_list,\n",
    "            \"created_time\": created_time_list,\n",
    "        }\n",
    "        df = pandas.DataFrame(raw_dic, index=None)\n",
    "        df.to_csv(output_file_path, sep=\"\\t\")\n",
    "        print(f\"{num} tweets df created!\")\n",
    "        break\n",
    "\n",
    "\n",
    "    # ライブラリのRateLimitErrorが発火しないのでこんな有様．メンテされていないからかも？\n",
    "    except tweepy.error.TweepError as e:\n",
    "        print(e)\n",
    "        for _ in tqdm_notebook(range(15 * 60)):\n",
    "            time.sleep(1)"
   ]
  },
  {
   "cell_type": "code",
   "execution_count": null,
   "metadata": {},
   "outputs": [],
   "source": []
  }
 ],
 "metadata": {
  "kernelspec": {
   "display_name": "Python 3",
   "language": "python",
   "name": "python3"
  },
  "language_info": {
   "codemirror_mode": {
    "name": "ipython",
    "version": 3
   },
   "file_extension": ".py",
   "mimetype": "text/x-python",
   "name": "python",
   "nbconvert_exporter": "python",
   "pygments_lexer": "ipython3",
   "version": "3.6.4"
  }
 },
 "nbformat": 4,
 "nbformat_minor": 2
}
